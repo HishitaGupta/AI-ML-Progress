{
 "cells": [
  {
   "cell_type": "code",
   "execution_count": 2,
   "id": "70f145a6",
   "metadata": {},
   "outputs": [],
   "source": [
    "import numpy as np\n",
    "import pandas as pd\n",
    "import matplotlib.pyplot as plt\n",
    "\n",
    "from sklearn.model_selection import train_test_split\n",
    "from sklearn.linear_model import LinearRegression\n",
    "from sklearn.preprocessing import PolynomialFeatures, StandardScaler\n",
    "from sklearn.metrics import r2_score\n",
    "from sklearn.pipeline import Pipeline"
   ]
  },
  {
   "cell_type": "code",
   "execution_count": 3,
   "id": "9d10b88d",
   "metadata": {},
   "outputs": [],
   "source": [
    "X = 6* np.random.rand(200,1)-3\n",
    "y= 0.8 * X**2 + 0.9*X + 2 + np.random.randn(200,1)\n",
    "\n",
    "# y hat = 0.8 X^2 + 0.9X + 2 + []-> random noise\n",
    "    # = B0 + B1X1 + B2X2 -> polynomial equation\n",
    "\n",
    "# np.random.rand(200,1) → generates 200 numbers between 0 and 1.\n",
    "# Multiply by 6 → scales them between 0 and 6.\n",
    "# Subtract 3 → shifts them to be between -3 and 3."
   ]
  },
  {
   "cell_type": "code",
   "execution_count": 4,
   "id": "c73fa8b2",
   "metadata": {},
   "outputs": [
    {
     "data": {
      "text/plain": [
       "array([[-0.51118701],\n",
       "       [ 2.22018523],\n",
       "       [-1.67881264],\n",
       "       [ 0.45207621],\n",
       "       [-0.93616877],\n",
       "       [ 1.49106133],\n",
       "       [-1.02251503],\n",
       "       [ 2.15260718],\n",
       "       [-0.32128328],\n",
       "       [ 2.96078533],\n",
       "       [ 0.81584235],\n",
       "       [-1.45495456],\n",
       "       [-1.12388647],\n",
       "       [ 1.38826856],\n",
       "       [-0.49084538],\n",
       "       [-1.22454274],\n",
       "       [ 1.11352601],\n",
       "       [-2.0273257 ],\n",
       "       [ 2.2099879 ],\n",
       "       [-2.23259042],\n",
       "       [ 2.81150501],\n",
       "       [-2.72618737],\n",
       "       [-0.88918358],\n",
       "       [ 0.23298273],\n",
       "       [-1.72540895],\n",
       "       [ 2.72567312],\n",
       "       [ 0.65615347],\n",
       "       [-1.47597104],\n",
       "       [-1.38502198],\n",
       "       [-2.75348877],\n",
       "       [-0.02798613],\n",
       "       [-2.07414394],\n",
       "       [-2.23304426],\n",
       "       [-1.11191193],\n",
       "       [ 1.62904374],\n",
       "       [-2.89555141],\n",
       "       [-0.3581657 ],\n",
       "       [-2.85004435],\n",
       "       [-2.92452211],\n",
       "       [ 1.45990283],\n",
       "       [ 2.90806281],\n",
       "       [-0.43474038],\n",
       "       [-1.56163702],\n",
       "       [-0.60473159],\n",
       "       [ 2.68291637],\n",
       "       [-1.77593692],\n",
       "       [ 0.1307118 ],\n",
       "       [ 2.84689461],\n",
       "       [-1.65626405],\n",
       "       [ 1.53385612],\n",
       "       [ 2.97726558],\n",
       "       [ 2.17552743],\n",
       "       [ 1.07774061],\n",
       "       [-1.83051818],\n",
       "       [ 2.96645279],\n",
       "       [-2.64369416],\n",
       "       [-1.79729494],\n",
       "       [-1.62965143],\n",
       "       [ 1.19873163],\n",
       "       [ 0.4473768 ],\n",
       "       [ 1.96828524],\n",
       "       [-0.63877595],\n",
       "       [-0.47269826],\n",
       "       [-0.87671555],\n",
       "       [ 1.79223883],\n",
       "       [ 1.86533111],\n",
       "       [ 1.32059085],\n",
       "       [-2.94474176],\n",
       "       [-0.36492532],\n",
       "       [ 0.38437817],\n",
       "       [ 0.69431365],\n",
       "       [-2.98504886],\n",
       "       [ 0.24240568],\n",
       "       [-2.67096828],\n",
       "       [ 1.34929565],\n",
       "       [ 2.57130691],\n",
       "       [ 1.46831667],\n",
       "       [-0.96197433],\n",
       "       [ 2.12248757],\n",
       "       [-0.14774623],\n",
       "       [-0.90642355],\n",
       "       [-2.25718259],\n",
       "       [-0.09362625],\n",
       "       [ 0.41679767],\n",
       "       [ 0.76524918],\n",
       "       [-0.47970693],\n",
       "       [ 1.46615244],\n",
       "       [ 0.54776506],\n",
       "       [ 0.92477549],\n",
       "       [ 1.43622942],\n",
       "       [ 0.21899683],\n",
       "       [-2.76641157],\n",
       "       [ 1.77726854],\n",
       "       [-1.23253148],\n",
       "       [ 0.651201  ],\n",
       "       [-0.9456637 ],\n",
       "       [-0.92464594],\n",
       "       [ 1.39972325],\n",
       "       [ 1.38296355],\n",
       "       [ 2.41627749],\n",
       "       [ 1.94042728],\n",
       "       [-2.05227511],\n",
       "       [-1.31710818],\n",
       "       [-0.09341178],\n",
       "       [ 1.31114601],\n",
       "       [ 1.98113994],\n",
       "       [-2.8800499 ],\n",
       "       [ 1.74834387],\n",
       "       [ 1.53005844],\n",
       "       [ 2.12803693],\n",
       "       [-1.1886008 ],\n",
       "       [-2.45142314],\n",
       "       [ 1.13906753],\n",
       "       [-0.32276518],\n",
       "       [ 0.22181772],\n",
       "       [-2.39442754],\n",
       "       [ 0.2994318 ],\n",
       "       [-1.85692674],\n",
       "       [ 0.05653431],\n",
       "       [-0.75780485],\n",
       "       [ 2.05742368],\n",
       "       [ 2.55212716],\n",
       "       [-0.76797205],\n",
       "       [-0.5972828 ],\n",
       "       [-0.36900437],\n",
       "       [-1.83967044],\n",
       "       [ 2.65617902],\n",
       "       [ 2.92380176],\n",
       "       [ 2.37370514],\n",
       "       [ 1.59438462],\n",
       "       [ 0.15514708],\n",
       "       [ 1.47977614],\n",
       "       [ 1.16304588],\n",
       "       [ 1.54035999],\n",
       "       [-2.47853482],\n",
       "       [-1.68354394],\n",
       "       [ 2.50338606],\n",
       "       [ 2.35238404],\n",
       "       [ 1.8287486 ],\n",
       "       [-1.25768935],\n",
       "       [ 0.44167217],\n",
       "       [ 2.21687144],\n",
       "       [ 2.14143538],\n",
       "       [-1.91958194],\n",
       "       [ 2.44861209],\n",
       "       [ 1.95955953],\n",
       "       [-2.22708728],\n",
       "       [ 1.88316833],\n",
       "       [ 1.7899067 ],\n",
       "       [ 2.49401348],\n",
       "       [ 0.56563078],\n",
       "       [ 2.07646802],\n",
       "       [ 0.61828704],\n",
       "       [-1.9290579 ],\n",
       "       [ 1.53606041],\n",
       "       [ 2.81558261],\n",
       "       [-2.03855882],\n",
       "       [-1.00096683],\n",
       "       [-1.53316948],\n",
       "       [ 0.16478682],\n",
       "       [ 0.9850331 ],\n",
       "       [ 2.26119315],\n",
       "       [-2.83694723],\n",
       "       [ 2.89449917],\n",
       "       [-1.61442205],\n",
       "       [ 2.37472656],\n",
       "       [ 1.22903539],\n",
       "       [-2.65943836],\n",
       "       [-0.45201784],\n",
       "       [-2.88683143],\n",
       "       [ 1.4958838 ],\n",
       "       [ 2.53061884],\n",
       "       [ 1.29399492],\n",
       "       [-1.54482725],\n",
       "       [ 2.04127214],\n",
       "       [ 0.86381703],\n",
       "       [-2.46445966],\n",
       "       [ 2.21673494],\n",
       "       [-1.58966292],\n",
       "       [-0.26591273],\n",
       "       [-2.68005288],\n",
       "       [-2.30124   ],\n",
       "       [ 1.77949865],\n",
       "       [-0.83512925],\n",
       "       [ 0.40220194],\n",
       "       [-2.99123211],\n",
       "       [-0.25667019],\n",
       "       [ 1.04307433],\n",
       "       [-1.03198664],\n",
       "       [-1.84784074],\n",
       "       [-1.21010534],\n",
       "       [ 2.5303633 ],\n",
       "       [ 2.64840437],\n",
       "       [-0.42842658],\n",
       "       [-2.90408361],\n",
       "       [ 1.29476928],\n",
       "       [-2.49338296],\n",
       "       [-1.36000067],\n",
       "       [-1.10832729],\n",
       "       [ 0.75684544]])"
      ]
     },
     "execution_count": 4,
     "metadata": {},
     "output_type": "execute_result"
    }
   ],
   "source": [
    "X"
   ]
  },
  {
   "cell_type": "code",
   "execution_count": 5,
   "id": "79d8a318",
   "metadata": {},
   "outputs": [
    {
     "data": {
      "text/plain": [
       "array([[ 2.71907513],\n",
       "       [ 7.86589526],\n",
       "       [ 2.63749629],\n",
       "       [ 2.15336151],\n",
       "       [-0.46908442],\n",
       "       [ 5.46961284],\n",
       "       [ 1.26125945],\n",
       "       [ 7.02055556],\n",
       "       [ 1.04060407],\n",
       "       [12.8665672 ],\n",
       "       [ 3.3771693 ],\n",
       "       [ 2.98602552],\n",
       "       [ 3.10345023],\n",
       "       [ 3.8833162 ],\n",
       "       [ 3.15780635],\n",
       "       [ 2.93440669],\n",
       "       [ 4.61732254],\n",
       "       [ 3.53852285],\n",
       "       [ 9.49139006],\n",
       "       [ 4.82961867],\n",
       "       [11.44514403],\n",
       "       [ 5.10989259],\n",
       "       [ 0.78369494],\n",
       "       [ 1.18240518],\n",
       "       [ 2.34364256],\n",
       "       [ 7.95083136],\n",
       "       [ 2.42739495],\n",
       "       [ 4.48659045],\n",
       "       [ 1.88121069],\n",
       "       [ 5.94540235],\n",
       "       [ 3.17557505],\n",
       "       [ 4.46099991],\n",
       "       [ 4.86505229],\n",
       "       [ 1.4861759 ],\n",
       "       [ 7.27236103],\n",
       "       [ 6.76862238],\n",
       "       [ 2.15460372],\n",
       "       [ 5.41123804],\n",
       "       [ 7.78939292],\n",
       "       [ 5.64520945],\n",
       "       [11.63821007],\n",
       "       [ 1.5862359 ],\n",
       "       [ 3.05961716],\n",
       "       [ 2.59299191],\n",
       "       [ 9.67683382],\n",
       "       [ 3.0686177 ],\n",
       "       [ 2.7645118 ],\n",
       "       [11.15960613],\n",
       "       [ 1.58182344],\n",
       "       [ 7.6477192 ],\n",
       "       [11.5272995 ],\n",
       "       [ 7.31189337],\n",
       "       [ 4.5434141 ],\n",
       "       [ 3.78800658],\n",
       "       [13.4131709 ],\n",
       "       [ 3.2088054 ],\n",
       "       [ 3.82126972],\n",
       "       [ 3.7614738 ],\n",
       "       [ 3.63126222],\n",
       "       [ 1.5152047 ],\n",
       "       [ 7.12291776],\n",
       "       [ 2.75744096],\n",
       "       [ 1.10689134],\n",
       "       [ 1.73592353],\n",
       "       [ 7.98619158],\n",
       "       [ 5.54309148],\n",
       "       [ 5.98150853],\n",
       "       [ 6.65087833],\n",
       "       [ 0.95945256],\n",
       "       [ 4.00595534],\n",
       "       [ 3.08942127],\n",
       "       [ 8.2045162 ],\n",
       "       [ 2.08227254],\n",
       "       [ 5.31597289],\n",
       "       [ 4.50494096],\n",
       "       [ 8.98112211],\n",
       "       [ 5.60331062],\n",
       "       [ 1.37301198],\n",
       "       [ 7.94447001],\n",
       "       [ 0.93058477],\n",
       "       [-0.60302156],\n",
       "       [ 2.90903626],\n",
       "       [ 0.80125672],\n",
       "       [ 3.04421055],\n",
       "       [ 2.28268062],\n",
       "       [ 3.84086686],\n",
       "       [ 4.09475408],\n",
       "       [ 3.58193328],\n",
       "       [ 2.57037677],\n",
       "       [ 4.52606554],\n",
       "       [ 2.64904474],\n",
       "       [ 6.78725017],\n",
       "       [ 7.67477632],\n",
       "       [ 2.21510204],\n",
       "       [ 2.43092435],\n",
       "       [ 1.45905877],\n",
       "       [ 1.45735306],\n",
       "       [ 5.31834211],\n",
       "       [ 3.65997757],\n",
       "       [11.16773435],\n",
       "       [ 9.00401602],\n",
       "       [ 3.19966456],\n",
       "       [ 3.44695065],\n",
       "       [ 1.71853565],\n",
       "       [ 6.98993939],\n",
       "       [ 7.15176839],\n",
       "       [ 7.34327661],\n",
       "       [ 6.04500494],\n",
       "       [ 5.94521014],\n",
       "       [ 9.59306937],\n",
       "       [ 1.99857851],\n",
       "       [ 5.81576737],\n",
       "       [ 4.91636892],\n",
       "       [ 0.66674869],\n",
       "       [ 3.64484626],\n",
       "       [ 3.28820783],\n",
       "       [ 1.54913846],\n",
       "       [ 2.57473688],\n",
       "       [ 2.20696045],\n",
       "       [ 0.50651179],\n",
       "       [ 6.80435206],\n",
       "       [ 9.29995764],\n",
       "       [ 2.03279947],\n",
       "       [ 2.65587348],\n",
       "       [ 1.65829759],\n",
       "       [ 3.34412992],\n",
       "       [ 8.52660652],\n",
       "       [14.15494649],\n",
       "       [ 7.89512365],\n",
       "       [ 5.0417108 ],\n",
       "       [ 1.38547159],\n",
       "       [ 4.6937606 ],\n",
       "       [ 2.98126555],\n",
       "       [ 4.08187528],\n",
       "       [ 4.33485219],\n",
       "       [ 1.7506126 ],\n",
       "       [ 9.1191696 ],\n",
       "       [ 9.84915689],\n",
       "       [ 6.47805004],\n",
       "       [ 3.45156997],\n",
       "       [ 1.68054579],\n",
       "       [ 7.04645835],\n",
       "       [ 6.8308985 ],\n",
       "       [ 2.12002628],\n",
       "       [ 9.82963875],\n",
       "       [ 6.8151416 ],\n",
       "       [ 4.11046584],\n",
       "       [ 7.42985745],\n",
       "       [ 6.35486724],\n",
       "       [ 7.48360001],\n",
       "       [ 2.43126505],\n",
       "       [ 8.71113035],\n",
       "       [ 2.46098757],\n",
       "       [ 3.58298723],\n",
       "       [ 4.91801778],\n",
       "       [11.02715449],\n",
       "       [ 4.75240465],\n",
       "       [ 2.56387923],\n",
       "       [ 1.89135595],\n",
       "       [ 1.86141089],\n",
       "       [ 4.57172102],\n",
       "       [ 6.86584862],\n",
       "       [ 6.56361643],\n",
       "       [ 9.32024708],\n",
       "       [ 2.93922254],\n",
       "       [ 7.91734192],\n",
       "       [ 3.46011682],\n",
       "       [ 4.54276515],\n",
       "       [ 1.54318993],\n",
       "       [ 4.14481012],\n",
       "       [ 5.21352423],\n",
       "       [ 8.37758199],\n",
       "       [ 5.96406098],\n",
       "       [ 2.32445971],\n",
       "       [ 6.3787231 ],\n",
       "       [ 4.58940303],\n",
       "       [ 4.80718788],\n",
       "       [ 6.70200417],\n",
       "       [ 3.19604836],\n",
       "       [ 2.42226724],\n",
       "       [ 5.36649034],\n",
       "       [ 3.35258388],\n",
       "       [ 7.0815635 ],\n",
       "       [ 0.80915411],\n",
       "       [ 2.74452064],\n",
       "       [ 7.086853  ],\n",
       "       [ 2.44342058],\n",
       "       [ 3.9950654 ],\n",
       "       [ 2.03024768],\n",
       "       [ 3.03806321],\n",
       "       [ 2.09729056],\n",
       "       [ 9.09276834],\n",
       "       [ 9.81481751],\n",
       "       [ 2.30560769],\n",
       "       [ 4.68978998],\n",
       "       [ 3.65661301],\n",
       "       [ 5.91411277],\n",
       "       [ 3.35545211],\n",
       "       [ 2.11932797],\n",
       "       [ 2.77956657]])"
      ]
     },
     "execution_count": 5,
     "metadata": {},
     "output_type": "execute_result"
    }
   ],
   "source": [
    "y"
   ]
  },
  {
   "cell_type": "code",
   "execution_count": 6,
   "id": "9003899d",
   "metadata": {},
   "outputs": [
    {
     "data": {
      "image/png": "[encoded data removed]",
      "text/plain": [
       "<Figure size 640x480 with 1 Axes>"
      ]
     },
     "metadata": {},
     "output_type": "display_data"
    }
   ],
   "source": [
    "plt.plot(X,y,'b.')\n",
    "plt.xlabel(\"X\")\n",
    "plt.ylabel(\"y\")\n",
    "plt.show()"
   ]
  },
  {
   "cell_type": "code",
   "execution_count": 7,
   "id": "d637ca5b",
   "metadata": {},
   "outputs": [],
   "source": [
    "# train-test split\n",
    "\n",
    "X_train, X_test, y_train, y_test = train_test_split(X,y,test_size=0.2,random_state=3)"
   ]
  },
  {
   "cell_type": "markdown",
   "id": "58b4f422",
   "metadata": {},
   "source": [
    "Apply First Linear Regression then Polynomial Regression then compare both"
   ]
  },
  {
   "cell_type": "code",
   "execution_count": 8,
   "id": "79d3287b",
   "metadata": {},
   "outputs": [
    {
     "data": {
      "text/html": [
       "<style>#sk-container-id-1 {\n",
       "  /* Definition of color scheme common for light and dark mode */\n",
       "  --sklearn-color-text: #000;\n",
       "  --sklearn-color-text-muted: #666;\n",
       "  --sklearn-color-line: gray;\n",
       "  /* Definition of color scheme for unfitted estimators */\n",
       "  --sklearn-color-unfitted-level-0: #fff5e6;\n",
       "  --sklearn-color-unfitted-level-1: #f6e4d2;\n",
       "  --sklearn-color-unfitted-level-2: #ffe0b3;\n",
       "  --sklearn-color-unfitted-level-3: chocolate;\n",
       "  /* Definition of color scheme for fitted estimators */\n",
       "  --sklearn-color-fitted-level-0: #f0f8ff;\n",
       "  --sklearn-color-fitted-level-1: #d4ebff;\n",
       "  --sklearn-color-fitted-level-2: #b3dbfd;\n",
       "  --sklearn-color-fitted-level-3: cornflowerblue;\n",
       "\n",
       "  /* Specific color for light theme */\n",
       "  --sklearn-color-text-on-default-background: var(--sg-text-color, var(--theme-code-foreground, var(--jp-content-font-color1, black)));\n",
       "  --sklearn-color-background: var(--sg-background-color, var(--theme-background, var(--jp-layout-color0, white)));\n",
       "  --sklearn-color-border-box: var(--sg-text-color, var(--theme-code-foreground, var(--jp-content-font-color1, black)));\n",
       "  --sklearn-color-icon: #696969;\n",
       "\n",
       "  @media (prefers-color-scheme: dark) {\n",
       "    /* Redefinition of color scheme for dark theme */\n",
       "    --sklearn-color-text-on-default-background: var(--sg-text-color, var(--theme-code-foreground, var(--jp-content-font-color1, white)));\n",
       "    --sklearn-color-background: var(--sg-background-color, var(--theme-background, var(--jp-layout-color0, #111)));\n",
       "    --sklearn-color-border-box: var(--sg-text-color, var(--theme-code-foreground, var(--jp-content-font-color1, white)));\n",
       "    --sklearn-color-icon: #878787;\n",
       "  }\n",
       "}\n",
       "\n",
       "#sk-container-id-1 {\n",
       "  color: var(--sklearn-color-text);\n",
       "}\n",
       "\n",
       "#sk-container-id-1 pre {\n",
       "  padding: 0;\n",
       "}\n",
       "\n",
       "#sk-container-id-1 input.sk-hidden--visually {\n",
       "  border: 0;\n",
       "  clip: rect(1px 1px 1px 1px);\n",
       "  clip: rect(1px, 1px, 1px, 1px);\n",
       "  height: 1px;\n",
       "  margin: -1px;\n",
       "  overflow: hidden;\n",
       "  padding: 0;\n",
       "  position: absolute;\n",
       "  width: 1px;\n",
       "}\n",
       "\n",
       "#sk-container-id-1 div.sk-dashed-wrapped {\n",
       "  border: 1px dashed var(--sklearn-color-line);\n",
       "  margin: 0 0.4em 0.5em 0.4em;\n",
       "  box-sizing: border-box;\n",
       "  padding-bottom: 0.4em;\n",
       "  background-color: var(--sklearn-color-background);\n",
       "}\n",
       "\n",
       "#sk-container-id-1 div.sk-container {\n",
       "  /* jupyter's `normalize.less` sets `[hidden] { display: none; }`\n",
       "     but bootstrap.min.css set `[hidden] { display: none !important; }`\n",
       "     so we also need the `!important` here to be able to override the\n",
       "     default hidden behavior on the sphinx rendered scikit-learn.org.\n",
       "     See: https://github.com/scikit-learn/scikit-learn/issues/21755 */\n",
       "  display: inline-block !important;\n",
       "  position: relative;\n",
       "}\n",
       "\n",
       "#sk-container-id-1 div.sk-text-repr-fallback {\n",
       "  display: none;\n",
       "}\n",
       "\n",
       "div.sk-parallel-item,\n",
       "div.sk-serial,\n",
       "div.sk-item {\n",
       "  /* draw centered vertical line to link estimators */\n",
       "  background-image: linear-gradient(var(--sklearn-color-text-on-default-background), var(--sklearn-color-text-on-default-background));\n",
       "  background-size: 2px 100%;\n",
       "  background-repeat: no-repeat;\n",
       "  background-position: center center;\n",
       "}\n",
       "\n",
       "/* Parallel-specific style estimator block */\n",
       "\n",
       "#sk-container-id-1 div.sk-parallel-item::after {\n",
       "  content: \"\";\n",
       "  width: 100%;\n",
       "  border-bottom: 2px solid var(--sklearn-color-text-on-default-background);\n",
       "  flex-grow: 1;\n",
       "}\n",
       "\n",
       "#sk-container-id-1 div.sk-parallel {\n",
       "  display: flex;\n",
       "  align-items: stretch;\n",
       "  justify-content: center;\n",
       "  background-color: var(--sklearn-color-background);\n",
       "  position: relative;\n",
       "}\n",
       "\n",
       "#sk-container-id-1 div.sk-parallel-item {\n",
       "  display: flex;\n",
       "  flex-direction: column;\n",
       "}\n",
       "\n",
       "#sk-container-id-1 div.sk-parallel-item:first-child::after {\n",
       "  align-self: flex-end;\n",
       "  width: 50%;\n",
       "}\n",
       "\n",
       "#sk-container-id-1 div.sk-parallel-item:last-child::after {\n",
       "  align-self: flex-start;\n",
       "  width: 50%;\n",
       "}\n",
       "\n",
       "#sk-container-id-1 div.sk-parallel-item:only-child::after {\n",
       "  width: 0;\n",
       "}\n",
       "\n",
       "/* Serial-specific style estimator block */\n",
       "\n",
       "#sk-container-id-1 div.sk-serial {\n",
       "  display: flex;\n",
       "  flex-direction: column;\n",
       "  align-items: center;\n",
       "  background-color: var(--sklearn-color-background);\n",
       "  padding-right: 1em;\n",
       "  padding-left: 1em;\n",
       "}\n",
       "\n",
       "\n",
       "/* Toggleable style: style used for estimator/Pipeline/ColumnTransformer box that is\n",
       "clickable and can be expanded/collapsed.\n",
       "- Pipeline and ColumnTransformer use this feature and define the default style\n",
       "- Estimators will overwrite some part of the style using the `sk-estimator` class\n",
       "*/\n",
       "\n",
       "/* Pipeline and ColumnTransformer style (default) */\n",
       "\n",
       "#sk-container-id-1 div.sk-toggleable {\n",
       "  /* Default theme specific background. It is overwritten whether we have a\n",
       "  specific estimator or a Pipeline/ColumnTransformer */\n",
       "  background-color: var(--sklearn-color-background);\n",
       "}\n",
       "\n",
       "/* Toggleable label */\n",
       "#sk-container-id-1 label.sk-toggleable__label {\n",
       "  cursor: pointer;\n",
       "  display: flex;\n",
       "  width: 100%;\n",
       "  margin-bottom: 0;\n",
       "  padding: 0.5em;\n",
       "  box-sizing: border-box;\n",
       "  text-align: center;\n",
       "  align-items: start;\n",
       "  justify-content: space-between;\n",
       "  gap: 0.5em;\n",
       "}\n",
       "\n",
       "#sk-container-id-1 label.sk-toggleable__label .caption {\n",
       "  font-size: 0.6rem;\n",
       "  font-weight: lighter;\n",
       "  color: var(--sklearn-color-text-muted);\n",
       "}\n",
       "\n",
       "#sk-container-id-1 label.sk-toggleable__label-arrow:before {\n",
       "  /* Arrow on the left of the label */\n",
       "  content: \"▸\";\n",
       "  float: left;\n",
       "  margin-right: 0.25em;\n",
       "  color: var(--sklearn-color-icon);\n",
       "}\n",
       "\n",
       "#sk-container-id-1 label.sk-toggleable__label-arrow:hover:before {\n",
       "  color: var(--sklearn-color-text);\n",
       "}\n",
       "\n",
       "/* Toggleable content - dropdown */\n",
       "\n",
       "#sk-container-id-1 div.sk-toggleable__content {\n",
       "  max-height: 0;\n",
       "  max-width: 0;\n",
       "  overflow: hidden;\n",
       "  text-align: left;\n",
       "  /* unfitted */\n",
       "  background-color: var(--sklearn-color-unfitted-level-0);\n",
       "}\n",
       "\n",
       "#sk-container-id-1 div.sk-toggleable__content.fitted {\n",
       "  /* fitted */\n",
       "  background-color: var(--sklearn-color-fitted-level-0);\n",
       "}\n",
       "\n",
       "#sk-container-id-1 div.sk-toggleable__content pre {\n",
       "  margin: 0.2em;\n",
       "  border-radius: 0.25em;\n",
       "  color: var(--sklearn-color-text);\n",
       "  /* unfitted */\n",
       "  background-color: var(--sklearn-color-unfitted-level-0);\n",
       "}\n",
       "\n",
       "#sk-container-id-1 div.sk-toggleable__content.fitted pre {\n",
       "  /* unfitted */\n",
       "  background-color: var(--sklearn-color-fitted-level-0);\n",
       "}\n",
       "\n",
       "#sk-container-id-1 input.sk-toggleable__control:checked~div.sk-toggleable__content {\n",
       "  /* Expand drop-down */\n",
       "  max-height: 200px;\n",
       "  max-width: 100%;\n",
       "  overflow: auto;\n",
       "}\n",
       "\n",
       "#sk-container-id-1 input.sk-toggleable__control:checked~label.sk-toggleable__label-arrow:before {\n",
       "  content: \"▾\";\n",
       "}\n",
       "\n",
       "/* Pipeline/ColumnTransformer-specific style */\n",
       "\n",
       "#sk-container-id-1 div.sk-label input.sk-toggleable__control:checked~label.sk-toggleable__label {\n",
       "  color: var(--sklearn-color-text);\n",
       "  background-color: var(--sklearn-color-unfitted-level-2);\n",
       "}\n",
       "\n",
       "#sk-container-id-1 div.sk-label.fitted input.sk-toggleable__control:checked~label.sk-toggleable__label {\n",
       "  background-color: var(--sklearn-color-fitted-level-2);\n",
       "}\n",
       "\n",
       "/* Estimator-specific style */\n",
       "\n",
       "/* Colorize estimator box */\n",
       "#sk-container-id-1 div.sk-estimator input.sk-toggleable__control:checked~label.sk-toggleable__label {\n",
       "  /* unfitted */\n",
       "  background-color: var(--sklearn-color-unfitted-level-2);\n",
       "}\n",
       "\n",
       "#sk-container-id-1 div.sk-estimator.fitted input.sk-toggleable__control:checked~label.sk-toggleable__label {\n",
       "  /* fitted */\n",
       "  background-color: var(--sklearn-color-fitted-level-2);\n",
       "}\n",
       "\n",
       "#sk-container-id-1 div.sk-label label.sk-toggleable__label,\n",
       "#sk-container-id-1 div.sk-label label {\n",
       "  /* The background is the default theme color */\n",
       "  color: var(--sklearn-color-text-on-default-background);\n",
       "}\n",
       "\n",
       "/* On hover, darken the color of the background */\n",
       "#sk-container-id-1 div.sk-label:hover label.sk-toggleable__label {\n",
       "  color: var(--sklearn-color-text);\n",
       "  background-color: var(--sklearn-color-unfitted-level-2);\n",
       "}\n",
       "\n",
       "/* Label box, darken color on hover, fitted */\n",
       "#sk-container-id-1 div.sk-label.fitted:hover label.sk-toggleable__label.fitted {\n",
       "  color: var(--sklearn-color-text);\n",
       "  background-color: var(--sklearn-color-fitted-level-2);\n",
       "}\n",
       "\n",
       "/* Estimator label */\n",
       "\n",
       "#sk-container-id-1 div.sk-label label {\n",
       "  font-family: monospace;\n",
       "  font-weight: bold;\n",
       "  display: inline-block;\n",
       "  line-height: 1.2em;\n",
       "}\n",
       "\n",
       "#sk-container-id-1 div.sk-label-container {\n",
       "  text-align: center;\n",
       "}\n",
       "\n",
       "/* Estimator-specific */\n",
       "#sk-container-id-1 div.sk-estimator {\n",
       "  font-family: monospace;\n",
       "  border: 1px dotted var(--sklearn-color-border-box);\n",
       "  border-radius: 0.25em;\n",
       "  box-sizing: border-box;\n",
       "  margin-bottom: 0.5em;\n",
       "  /* unfitted */\n",
       "  background-color: var(--sklearn-color-unfitted-level-0);\n",
       "}\n",
       "\n",
       "#sk-container-id-1 div.sk-estimator.fitted {\n",
       "  /* fitted */\n",
       "  background-color: var(--sklearn-color-fitted-level-0);\n",
       "}\n",
       "\n",
       "/* on hover */\n",
       "#sk-container-id-1 div.sk-estimator:hover {\n",
       "  /* unfitted */\n",
       "  background-color: var(--sklearn-color-unfitted-level-2);\n",
       "}\n",
       "\n",
       "#sk-container-id-1 div.sk-estimator.fitted:hover {\n",
       "  /* fitted */\n",
       "  background-color: var(--sklearn-color-fitted-level-2);\n",
       "}\n",
       "\n",
       "/* Specification for estimator info (e.g. \"i\" and \"?\") */\n",
       "\n",
       "/* Common style for \"i\" and \"?\" */\n",
       "\n",
       ".sk-estimator-doc-link,\n",
       "a:link.sk-estimator-doc-link,\n",
       "a:visited.sk-estimator-doc-link {\n",
       "  float: right;\n",
       "  font-size: smaller;\n",
       "  line-height: 1em;\n",
       "  font-family: monospace;\n",
       "  background-color: var(--sklearn-color-background);\n",
       "  border-radius: 1em;\n",
       "  height: 1em;\n",
       "  width: 1em;\n",
       "  text-decoration: none !important;\n",
       "  margin-left: 0.5em;\n",
       "  text-align: center;\n",
       "  /* unfitted */\n",
       "  border: var(--sklearn-color-unfitted-level-1) 1pt solid;\n",
       "  color: var(--sklearn-color-unfitted-level-1);\n",
       "}\n",
       "\n",
       ".sk-estimator-doc-link.fitted,\n",
       "a:link.sk-estimator-doc-link.fitted,\n",
       "a:visited.sk-estimator-doc-link.fitted {\n",
       "  /* fitted */\n",
       "  border: var(--sklearn-color-fitted-level-1) 1pt solid;\n",
       "  color: var(--sklearn-color-fitted-level-1);\n",
       "}\n",
       "\n",
       "/* On hover */\n",
       "div.sk-estimator:hover .sk-estimator-doc-link:hover,\n",
       ".sk-estimator-doc-link:hover,\n",
       "div.sk-label-container:hover .sk-estimator-doc-link:hover,\n",
       ".sk-estimator-doc-link:hover {\n",
       "  /* unfitted */\n",
       "  background-color: var(--sklearn-color-unfitted-level-3);\n",
       "  color: var(--sklearn-color-background);\n",
       "  text-decoration: none;\n",
       "}\n",
       "\n",
       "div.sk-estimator.fitted:hover .sk-estimator-doc-link.fitted:hover,\n",
       ".sk-estimator-doc-link.fitted:hover,\n",
       "div.sk-label-container:hover .sk-estimator-doc-link.fitted:hover,\n",
       ".sk-estimator-doc-link.fitted:hover {\n",
       "  /* fitted */\n",
       "  background-color: var(--sklearn-color-fitted-level-3);\n",
       "  color: var(--sklearn-color-background);\n",
       "  text-decoration: none;\n",
       "}\n",
       "\n",
       "/* Span, style for the box shown on hovering the info icon */\n",
       ".sk-estimator-doc-link span {\n",
       "  display: none;\n",
       "  z-index: 9999;\n",
       "  position: relative;\n",
       "  font-weight: normal;\n",
       "  right: .2ex;\n",
       "  padding: .5ex;\n",
       "  margin: .5ex;\n",
       "  width: min-content;\n",
       "  min-width: 20ex;\n",
       "  max-width: 50ex;\n",
       "  color: var(--sklearn-color-text);\n",
       "  box-shadow: 2pt 2pt 4pt #999;\n",
       "  /* unfitted */\n",
       "  background: var(--sklearn-color-unfitted-level-0);\n",
       "  border: .5pt solid var(--sklearn-color-unfitted-level-3);\n",
       "}\n",
       "\n",
       ".sk-estimator-doc-link.fitted span {\n",
       "  /* fitted */\n",
       "  background: var(--sklearn-color-fitted-level-0);\n",
       "  border: var(--sklearn-color-fitted-level-3);\n",
       "}\n",
       "\n",
       ".sk-estimator-doc-link:hover span {\n",
       "  display: block;\n",
       "}\n",
       "\n",
       "/* \"?\"-specific style due to the `<a>` HTML tag */\n",
       "\n",
       "#sk-container-id-1 a.estimator_doc_link {\n",
       "  float: right;\n",
       "  font-size: 1rem;\n",
       "  line-height: 1em;\n",
       "  font-family: monospace;\n",
       "  background-color: var(--sklearn-color-background);\n",
       "  border-radius: 1rem;\n",
       "  height: 1rem;\n",
       "  width: 1rem;\n",
       "  text-decoration: none;\n",
       "  /* unfitted */\n",
       "  color: var(--sklearn-color-unfitted-level-1);\n",
       "  border: var(--sklearn-color-unfitted-level-1) 1pt solid;\n",
       "}\n",
       "\n",
       "#sk-container-id-1 a.estimator_doc_link.fitted {\n",
       "  /* fitted */\n",
       "  border: var(--sklearn-color-fitted-level-1) 1pt solid;\n",
       "  color: var(--sklearn-color-fitted-level-1);\n",
       "}\n",
       "\n",
       "/* On hover */\n",
       "#sk-container-id-1 a.estimator_doc_link:hover {\n",
       "  /* unfitted */\n",
       "  background-color: var(--sklearn-color-unfitted-level-3);\n",
       "  color: var(--sklearn-color-background);\n",
       "  text-decoration: none;\n",
       "}\n",
       "\n",
       "#sk-container-id-1 a.estimator_doc_link.fitted:hover {\n",
       "  /* fitted */\n",
       "  background-color: var(--sklearn-color-fitted-level-3);\n",
       "}\n",
       "</style><div id=\"sk-container-id-1\" class=\"sk-top-container\"><div class=\"sk-text-repr-fallback\"><pre>LinearRegression()</pre><b>In a Jupyter environment, please rerun this cell to show the HTML representation or trust the notebook. <br />On GitHub, the HTML representation is unable to render, please try loading this page with nbviewer.org.</b></div><div class=\"sk-container\" hidden><div class=\"sk-item\"><div class=\"sk-estimator fitted sk-toggleable\"><input class=\"sk-toggleable__control sk-hidden--visually\" id=\"sk-estimator-id-1\" type=\"checkbox\" checked><label for=\"sk-estimator-id-1\" class=\"sk-toggleable__label fitted sk-toggleable__label-arrow\"><div><div>LinearRegression</div></div><div><a class=\"sk-estimator-doc-link fitted\" rel=\"noreferrer\" target=\"_blank\" href=\"https://scikit-learn.org/1.6/modules/generated/sklearn.linear_model.LinearRegression.html\">?<span>Documentation for LinearRegression</span></a><span class=\"sk-estimator-doc-link fitted\">i<span>Fitted</span></span></div></label><div class=\"sk-toggleable__content fitted\"><pre>LinearRegression()</pre></div> </div></div></div></div>"
      ],
      "text/plain": [
       "LinearRegression()"
      ]
     },
     "execution_count": 8,
     "metadata": {},
     "output_type": "execute_result"
    }
   ],
   "source": [
    "# Apply The Linear Regression Model\n",
    "\n",
    "lr = LinearRegression()\n",
    "lr.fit(X_train,y_train)"
   ]
  },
  {
   "cell_type": "code",
   "execution_count": 9,
   "id": "3e6ab141",
   "metadata": {},
   "outputs": [
    {
     "name": "stdout",
     "output_type": "stream",
     "text": [
      "-1.8490640565315237\n"
     ]
    }
   ],
   "source": [
    "y_pred = lr.predict(X_test)\n",
    "r2_score_lr = r2_score(y_pred,y_test)\n",
    "\n",
    "print(r2_score_lr) #very low"
   ]
  },
  {
   "cell_type": "code",
   "execution_count": 58,
   "id": "918a057f",
   "metadata": {},
   "outputs": [
    {
     "data": {
      "image/png": "[encoded data removed]",
      "text/plain": [
       "<Figure size 640x480 with 1 Axes>"
      ]
     },
     "metadata": {},
     "output_type": "display_data"
    }
   ],
   "source": [
    "plt.plot(X_train,lr.predict(X_train),color='r')\n",
    "plt.plot(X , y ,'b.') #blue color dots\n",
    "plt.xlabel('X')\n",
    "plt.ylabel('y')\n",
    "plt.show()\n"
   ]
  },
  {
   "cell_type": "code",
   "execution_count": 59,
   "id": "56d3e4c2",
   "metadata": {},
   "outputs": [],
   "source": [
    "# Applying Polynomial Linear Regression\n",
    "\n",
    "poly = PolynomialFeatures(degree=2, include_bias=True)\n",
    "\n",
    "X_train_trans =poly.fit_transform(X_train)\n",
    "# to generate degree based data  [1, a, a^2].\n",
    "\n",
    "X_test_trans =poly.transform(X_test)\n",
    "\n",
    "# because we have degrees 2\n",
    "\n",
    "\n",
    "\n"
   ]
  },
  {
   "cell_type": "code",
   "execution_count": 60,
   "id": "4c1e4e63",
   "metadata": {},
   "outputs": [
    {
     "data": {
      "text/plain": [
       "array([[ 1.00000000e+00, -2.03855882e+00,  4.15572206e+00],\n",
       "       [ 1.00000000e+00, -2.39442754e+00,  5.73328322e+00],\n",
       "       [ 1.00000000e+00,  2.81558261e+00,  7.92750543e+00],\n",
       "       [ 1.00000000e+00, -1.22454274e+00,  1.49950493e+00],\n",
       "       [ 1.00000000e+00, -6.38775946e-01,  4.08034709e-01],\n",
       "       [ 1.00000000e+00,  8.63817033e-01,  7.46179867e-01],\n",
       "       [ 1.00000000e+00,  2.05742368e+00,  4.23299220e+00],\n",
       "       [ 1.00000000e+00,  1.55147080e-01,  2.40706164e-02],\n",
       "       [ 1.00000000e+00,  2.32982729e-01,  5.42809519e-02],\n",
       "       [ 1.00000000e+00, -1.92905790e+00,  3.72126437e+00],\n",
       "       [ 1.00000000e+00, -2.07414394e+00,  4.30207310e+00],\n",
       "       [ 1.00000000e+00, -9.34117782e-02,  8.72576031e-03],\n",
       "       [ 1.00000000e+00,  1.43622942e+00,  2.06275493e+00],\n",
       "       [ 1.00000000e+00,  1.16304588e+00,  1.35267573e+00],\n",
       "       [ 1.00000000e+00,  2.12803693e+00,  4.52854116e+00],\n",
       "       [ 1.00000000e+00,  2.65617902e+00,  7.05528697e+00],\n",
       "       [ 1.00000000e+00, -2.02732570e+00,  4.11004949e+00],\n",
       "       [ 1.00000000e+00, -2.79861343e-02,  7.83223714e-04],\n",
       "       [ 1.00000000e+00, -1.58966292e+00,  2.52702821e+00],\n",
       "       [ 1.00000000e+00, -2.83694723e+00,  8.04826960e+00],\n",
       "       [ 1.00000000e+00, -9.61974332e-01,  9.25394615e-01],\n",
       "       [ 1.00000000e+00, -2.67096828e+00,  7.13407153e+00],\n",
       "       [ 1.00000000e+00, -2.98504886e+00,  8.91051671e+00],\n",
       "       [ 1.00000000e+00,  2.12248757e+00,  4.50495350e+00],\n",
       "       [ 1.00000000e+00, -1.56163702e+00,  2.43871017e+00],\n",
       "       [ 1.00000000e+00,  1.54035999e+00,  2.37270891e+00],\n",
       "       [ 1.00000000e+00,  2.64840437e+00,  7.01404572e+00],\n",
       "       [ 1.00000000e+00,  1.38826856e+00,  1.92728960e+00],\n",
       "       [ 1.00000000e+00, -2.22708728e+00,  4.95991777e+00],\n",
       "       [ 1.00000000e+00,  1.34929565e+00,  1.82059874e+00],\n",
       "       [ 1.00000000e+00,  1.49106133e+00,  2.22326390e+00],\n",
       "       [ 1.00000000e+00,  2.21817715e-01,  4.92030988e-02],\n",
       "       [ 1.00000000e+00, -1.31710818e+00,  1.73477395e+00],\n",
       "       [ 1.00000000e+00, -2.30124000e+00,  5.29570552e+00],\n",
       "       [ 1.00000000e+00,  2.55212716e+00,  6.51335302e+00],\n",
       "       [ 1.00000000e+00, -4.52017837e-01,  2.04320125e-01],\n",
       "       [ 1.00000000e+00,  2.53061884e+00,  6.40403172e+00],\n",
       "       [ 1.00000000e+00, -1.72540895e+00,  2.97703604e+00],\n",
       "       [ 1.00000000e+00,  2.44861209e+00,  5.99570115e+00],\n",
       "       [ 1.00000000e+00,  1.77726854e+00,  3.15868346e+00],\n",
       "       [ 1.00000000e+00, -3.21283276e-01,  1.03222944e-01],\n",
       "       [ 1.00000000e+00, -1.83051818e+00,  3.35079680e+00],\n",
       "       [ 1.00000000e+00, -1.47597104e+00,  2.17849051e+00],\n",
       "       [ 1.00000000e+00,  1.98113994e+00,  3.92491547e+00],\n",
       "       [ 1.00000000e+00,  5.65343090e-02,  3.19612809e-03],\n",
       "       [ 1.00000000e+00,  2.89449917e+00,  8.37812546e+00],\n",
       "       [ 1.00000000e+00, -6.04731594e-01,  3.65700301e-01],\n",
       "       [ 1.00000000e+00, -1.62965143e+00,  2.65576379e+00],\n",
       "       [ 1.00000000e+00,  2.37472656e+00,  5.63932624e+00],\n",
       "       [ 1.00000000e+00, -8.89183576e-01,  7.90647433e-01],\n",
       "       [ 1.00000000e+00, -2.68005288e+00,  7.18268343e+00],\n",
       "       [ 1.00000000e+00,  1.04307433e+00,  1.08800407e+00],\n",
       "       [ 1.00000000e+00,  9.85033101e-01,  9.70290209e-01],\n",
       "       [ 1.00000000e+00,  5.47765057e-01,  3.00046558e-01],\n",
       "       [ 1.00000000e+00, -2.47853482e+00,  6.14313486e+00],\n",
       "       [ 1.00000000e+00, -8.76715547e-01,  7.68630150e-01],\n",
       "       [ 1.00000000e+00,  4.41672170e-01,  1.95074306e-01],\n",
       "       [ 1.00000000e+00, -4.28426584e-01,  1.83549338e-01],\n",
       "       [ 1.00000000e+00, -1.68354394e+00,  2.83432019e+00],\n",
       "       [ 1.00000000e+00, -1.77593692e+00,  3.15395196e+00],\n",
       "       [ 1.00000000e+00, -2.89555141e+00,  8.38421798e+00],\n",
       "       [ 1.00000000e+00,  1.86533111e+00,  3.47946014e+00],\n",
       "       [ 1.00000000e+00,  2.97726558e+00,  8.86411035e+00],\n",
       "       [ 1.00000000e+00, -1.83967044e+00,  3.38438732e+00],\n",
       "       [ 1.00000000e+00,  1.38296355e+00,  1.91258819e+00],\n",
       "       [ 1.00000000e+00,  1.11352601e+00,  1.23994018e+00],\n",
       "       [ 1.00000000e+00, -2.23259042e+00,  4.98445997e+00],\n",
       "       [ 1.00000000e+00,  1.53005844e+00,  2.34107884e+00],\n",
       "       [ 1.00000000e+00,  2.68291637e+00,  7.19804023e+00],\n",
       "       [ 1.00000000e+00, -3.64925323e-01,  1.33170491e-01],\n",
       "       [ 1.00000000e+00,  1.46831667e+00,  2.15595385e+00],\n",
       "       [ 1.00000000e+00,  2.21687144e+00,  4.91451898e+00],\n",
       "       [ 1.00000000e+00,  1.13906753e+00,  1.29747484e+00],\n",
       "       [ 1.00000000e+00,  8.15842350e-01,  6.65598741e-01],\n",
       "       [ 1.00000000e+00,  7.65249183e-01,  5.85606313e-01],\n",
       "       [ 1.00000000e+00, -1.45495456e+00,  2.11689278e+00],\n",
       "       [ 1.00000000e+00, -2.64369416e+00,  6.98911883e+00],\n",
       "       [ 1.00000000e+00,  9.24775486e-01,  8.55209700e-01],\n",
       "       [ 1.00000000e+00, -2.46445966e+00,  6.07356143e+00],\n",
       "       [ 1.00000000e+00, -2.45142314e+00,  6.00947543e+00],\n",
       "       [ 1.00000000e+00,  2.50338606e+00,  6.26694176e+00],\n",
       "       [ 1.00000000e+00,  2.96078533e+00,  8.76624976e+00],\n",
       "       [ 1.00000000e+00,  2.35238404e+00,  5.53371067e+00],\n",
       "       [ 1.00000000e+00, -2.23304426e+00,  4.98648668e+00],\n",
       "       [ 1.00000000e+00, -2.75348877e+00,  7.58170041e+00],\n",
       "       [ 1.00000000e+00,  1.45990283e+00,  2.13131628e+00],\n",
       "       [ 1.00000000e+00, -2.99123211e+00,  8.94746954e+00],\n",
       "       [ 1.00000000e+00, -1.79729494e+00,  3.23026912e+00],\n",
       "       [ 1.00000000e+00, -2.56670187e-01,  6.58795850e-02],\n",
       "       [ 1.00000000e+00, -2.90408361e+00,  8.43370163e+00],\n",
       "       [ 1.00000000e+00, -2.76641157e+00,  7.65303299e+00],\n",
       "       [ 1.00000000e+00,  4.47376803e-01,  2.00146004e-01],\n",
       "       [ 1.00000000e+00,  2.04127214e+00,  4.16679195e+00],\n",
       "       [ 1.00000000e+00, -3.58165701e-01,  1.28282669e-01],\n",
       "       [ 1.00000000e+00,  2.21673494e+00,  4.91391382e+00],\n",
       "       [ 1.00000000e+00,  1.07774061e+00,  1.16152483e+00],\n",
       "       [ 1.00000000e+00,  2.53036330e+00,  6.40273845e+00],\n",
       "       [ 1.00000000e+00, -1.65626405e+00,  2.74321061e+00],\n",
       "       [ 1.00000000e+00, -9.24645944e-01,  8.54970122e-01],\n",
       "       [ 1.00000000e+00,  2.57130691e+00,  6.61161925e+00],\n",
       "       [ 1.00000000e+00,  2.07646802e+00,  4.31171945e+00],\n",
       "       [ 1.00000000e+00, -9.06423545e-01,  8.21603643e-01],\n",
       "       [ 1.00000000e+00,  2.41627749e+00,  5.83839690e+00],\n",
       "       [ 1.00000000e+00, -3.69004374e-01,  1.36164228e-01],\n",
       "       [ 1.00000000e+00,  1.53606041e+00,  2.35948158e+00],\n",
       "       [ 1.00000000e+00, -1.85692674e+00,  3.44817693e+00],\n",
       "       [ 1.00000000e+00, -4.79706932e-01,  2.30118741e-01],\n",
       "       [ 1.00000000e+00,  2.22018523e+00,  4.92922246e+00],\n",
       "       [ 1.00000000e+00, -3.22765181e-01,  1.04177362e-01],\n",
       "       [ 1.00000000e+00, -1.61442205e+00,  2.60635854e+00],\n",
       "       [ 1.00000000e+00,  2.99431803e-01,  8.96594048e-02],\n",
       "       [ 1.00000000e+00,  2.20998790e+00,  4.88404652e+00],\n",
       "       [ 1.00000000e+00,  1.29476928e+00,  1.67642748e+00],\n",
       "       [ 1.00000000e+00,  2.96645279e+00,  8.79984218e+00],\n",
       "       [ 1.00000000e+00, -1.03198664e+00,  1.06499642e+00],\n",
       "       [ 1.00000000e+00, -1.38502198e+00,  1.91828588e+00],\n",
       "       [ 1.00000000e+00,  2.92380176e+00,  8.54861676e+00],\n",
       "       [ 1.00000000e+00, -1.84784074e+00,  3.41451539e+00],\n",
       "       [ 1.00000000e+00,  1.53385612e+00,  2.35271458e+00],\n",
       "       [ 1.00000000e+00,  6.51201004e-01,  4.24062748e-01],\n",
       "       [ 1.00000000e+00,  2.81150501e+00,  7.90456043e+00],\n",
       "       [ 1.00000000e+00, -2.85004435e+00,  8.12275279e+00],\n",
       "       [ 1.00000000e+00, -1.47746231e-01,  2.18289488e-02],\n",
       "       [ 1.00000000e+00, -5.97282796e-01,  3.56746739e-01],\n",
       "       [ 1.00000000e+00, -1.11191193e+00,  1.23634813e+00],\n",
       "       [ 1.00000000e+00,  2.15260718e+00,  4.63371765e+00],\n",
       "       [ 1.00000000e+00, -4.72698263e-01,  2.23443648e-01],\n",
       "       [ 1.00000000e+00, -1.10832729e+00,  1.22838938e+00],\n",
       "       [ 1.00000000e+00,  7.56845444e-01,  5.72815027e-01],\n",
       "       [ 1.00000000e+00, -1.00096683e+00,  1.00193460e+00],\n",
       "       [ 1.00000000e+00,  1.39972325e+00,  1.95922518e+00],\n",
       "       [ 1.00000000e+00, -1.18860080e+00,  1.41277185e+00],\n",
       "       [ 1.00000000e+00,  1.31114601e+00,  1.71910385e+00],\n",
       "       [ 1.00000000e+00,  3.84378167e-01,  1.47746575e-01],\n",
       "       [ 1.00000000e+00,  2.18996829e-01,  4.79596113e-02],\n",
       "       [ 1.00000000e+00,  1.59438462e+00,  2.54206233e+00],\n",
       "       [ 1.00000000e+00,  1.96828524e+00,  3.87414680e+00],\n",
       "       [ 1.00000000e+00, -1.67881264e+00,  2.81841187e+00],\n",
       "       [ 1.00000000e+00,  1.32059085e+00,  1.74396019e+00],\n",
       "       [ 1.00000000e+00,  5.65630777e-01,  3.19938176e-01],\n",
       "       [ 1.00000000e+00, -2.25718259e+00,  5.09487325e+00],\n",
       "       [ 1.00000000e+00,  6.56153468e-01,  4.30537374e-01],\n",
       "       [ 1.00000000e+00,  2.14143538e+00,  4.58574547e+00],\n",
       "       [ 1.00000000e+00, -2.65943836e+00,  7.07261238e+00],\n",
       "       [ 1.00000000e+00, -1.23253148e+00,  1.51913386e+00],\n",
       "       [ 1.00000000e+00,  1.29399492e+00,  1.67442286e+00],\n",
       "       [ 1.00000000e+00,  1.78990670e+00,  3.20376600e+00],\n",
       "       [ 1.00000000e+00,  1.22903539e+00,  1.51052798e+00],\n",
       "       [ 1.00000000e+00, -7.57804852e-01,  5.74268193e-01],\n",
       "       [ 1.00000000e+00,  2.49401348e+00,  6.22010322e+00],\n",
       "       [ 1.00000000e+00,  1.82874860e+00,  3.34432144e+00],\n",
       "       [ 1.00000000e+00, -2.88683143e+00,  8.33379573e+00],\n",
       "       [ 1.00000000e+00,  1.74834387e+00,  3.05670628e+00],\n",
       "       [ 1.00000000e+00,  1.88316833e+00,  3.54632296e+00],\n",
       "       [ 1.00000000e+00, -2.72618737e+00,  7.43209757e+00],\n",
       "       [ 1.00000000e+00, -5.11187010e-01,  2.61312159e-01],\n",
       "       [ 1.00000000e+00,  4.02201944e-01,  1.61766404e-01],\n",
       "       [ 1.00000000e+00,  1.47977614e+00,  2.18973743e+00],\n",
       "       [ 1.00000000e+00,  6.18287042e-01,  3.82278867e-01],\n",
       "       [ 1.00000000e+00, -2.88004990e+00,  8.29468741e+00]])"
      ]
     },
     "execution_count": 60,
     "metadata": {},
     "output_type": "execute_result"
    }
   ],
   "source": [
    "X_train_trans\n",
    "# x0 , x1 , x2 created from x"
   ]
  },
  {
   "cell_type": "code",
   "execution_count": 61,
   "id": "8f04d9fb",
   "metadata": {},
   "outputs": [
    {
     "data": {
      "text/html": [
       "<style>#sk-container-id-7 {\n",
       "  /* Definition of color scheme common for light and dark mode */\n",
       "  --sklearn-color-text: #000;\n",
       "  --sklearn-color-text-muted: #666;\n",
       "  --sklearn-color-line: gray;\n",
       "  /* Definition of color scheme for unfitted estimators */\n",
       "  --sklearn-color-unfitted-level-0: #fff5e6;\n",
       "  --sklearn-color-unfitted-level-1: #f6e4d2;\n",
       "  --sklearn-color-unfitted-level-2: #ffe0b3;\n",
       "  --sklearn-color-unfitted-level-3: chocolate;\n",
       "  /* Definition of color scheme for fitted estimators */\n",
       "  --sklearn-color-fitted-level-0: #f0f8ff;\n",
       "  --sklearn-color-fitted-level-1: #d4ebff;\n",
       "  --sklearn-color-fitted-level-2: #b3dbfd;\n",
       "  --sklearn-color-fitted-level-3: cornflowerblue;\n",
       "\n",
       "  /* Specific color for light theme */\n",
       "  --sklearn-color-text-on-default-background: var(--sg-text-color, var(--theme-code-foreground, var(--jp-content-font-color1, black)));\n",
       "  --sklearn-color-background: var(--sg-background-color, var(--theme-background, var(--jp-layout-color0, white)));\n",
       "  --sklearn-color-border-box: var(--sg-text-color, var(--theme-code-foreground, var(--jp-content-font-color1, black)));\n",
       "  --sklearn-color-icon: #696969;\n",
       "\n",
       "  @media (prefers-color-scheme: dark) {\n",
       "    /* Redefinition of color scheme for dark theme */\n",
       "    --sklearn-color-text-on-default-background: var(--sg-text-color, var(--theme-code-foreground, var(--jp-content-font-color1, white)));\n",
       "    --sklearn-color-background: var(--sg-background-color, var(--theme-background, var(--jp-layout-color0, #111)));\n",
       "    --sklearn-color-border-box: var(--sg-text-color, var(--theme-code-foreground, var(--jp-content-font-color1, white)));\n",
       "    --sklearn-color-icon: #878787;\n",
       "  }\n",
       "}\n",
       "\n",
       "#sk-container-id-7 {\n",
       "  color: var(--sklearn-color-text);\n",
       "}\n",
       "\n",
       "#sk-container-id-7 pre {\n",
       "  padding: 0;\n",
       "}\n",
       "\n",
       "#sk-container-id-7 input.sk-hidden--visually {\n",
       "  border: 0;\n",
       "  clip: rect(1px 1px 1px 1px);\n",
       "  clip: rect(1px, 1px, 1px, 1px);\n",
       "  height: 1px;\n",
       "  margin: -1px;\n",
       "  overflow: hidden;\n",
       "  padding: 0;\n",
       "  position: absolute;\n",
       "  width: 1px;\n",
       "}\n",
       "\n",
       "#sk-container-id-7 div.sk-dashed-wrapped {\n",
       "  border: 1px dashed var(--sklearn-color-line);\n",
       "  margin: 0 0.4em 0.5em 0.4em;\n",
       "  box-sizing: border-box;\n",
       "  padding-bottom: 0.4em;\n",
       "  background-color: var(--sklearn-color-background);\n",
       "}\n",
       "\n",
       "#sk-container-id-7 div.sk-container {\n",
       "  /* jupyter's `normalize.less` sets `[hidden] { display: none; }`\n",
       "     but bootstrap.min.css set `[hidden] { display: none !important; }`\n",
       "     so we also need the `!important` here to be able to override the\n",
       "     default hidden behavior on the sphinx rendered scikit-learn.org.\n",
       "     See: https://github.com/scikit-learn/scikit-learn/issues/21755 */\n",
       "  display: inline-block !important;\n",
       "  position: relative;\n",
       "}\n",
       "\n",
       "#sk-container-id-7 div.sk-text-repr-fallback {\n",
       "  display: none;\n",
       "}\n",
       "\n",
       "div.sk-parallel-item,\n",
       "div.sk-serial,\n",
       "div.sk-item {\n",
       "  /* draw centered vertical line to link estimators */\n",
       "  background-image: linear-gradient(var(--sklearn-color-text-on-default-background), var(--sklearn-color-text-on-default-background));\n",
       "  background-size: 2px 100%;\n",
       "  background-repeat: no-repeat;\n",
       "  background-position: center center;\n",
       "}\n",
       "\n",
       "/* Parallel-specific style estimator block */\n",
       "\n",
       "#sk-container-id-7 div.sk-parallel-item::after {\n",
       "  content: \"\";\n",
       "  width: 100%;\n",
       "  border-bottom: 2px solid var(--sklearn-color-text-on-default-background);\n",
       "  flex-grow: 1;\n",
       "}\n",
       "\n",
       "#sk-container-id-7 div.sk-parallel {\n",
       "  display: flex;\n",
       "  align-items: stretch;\n",
       "  justify-content: center;\n",
       "  background-color: var(--sklearn-color-background);\n",
       "  position: relative;\n",
       "}\n",
       "\n",
       "#sk-container-id-7 div.sk-parallel-item {\n",
       "  display: flex;\n",
       "  flex-direction: column;\n",
       "}\n",
       "\n",
       "#sk-container-id-7 div.sk-parallel-item:first-child::after {\n",
       "  align-self: flex-end;\n",
       "  width: 50%;\n",
       "}\n",
       "\n",
       "#sk-container-id-7 div.sk-parallel-item:last-child::after {\n",
       "  align-self: flex-start;\n",
       "  width: 50%;\n",
       "}\n",
       "\n",
       "#sk-container-id-7 div.sk-parallel-item:only-child::after {\n",
       "  width: 0;\n",
       "}\n",
       "\n",
       "/* Serial-specific style estimator block */\n",
       "\n",
       "#sk-container-id-7 div.sk-serial {\n",
       "  display: flex;\n",
       "  flex-direction: column;\n",
       "  align-items: center;\n",
       "  background-color: var(--sklearn-color-background);\n",
       "  padding-right: 1em;\n",
       "  padding-left: 1em;\n",
       "}\n",
       "\n",
       "\n",
       "/* Toggleable style: style used for estimator/Pipeline/ColumnTransformer box that is\n",
       "clickable and can be expanded/collapsed.\n",
       "- Pipeline and ColumnTransformer use this feature and define the default style\n",
       "- Estimators will overwrite some part of the style using the `sk-estimator` class\n",
       "*/\n",
       "\n",
       "/* Pipeline and ColumnTransformer style (default) */\n",
       "\n",
       "#sk-container-id-7 div.sk-toggleable {\n",
       "  /* Default theme specific background. It is overwritten whether we have a\n",
       "  specific estimator or a Pipeline/ColumnTransformer */\n",
       "  background-color: var(--sklearn-color-background);\n",
       "}\n",
       "\n",
       "/* Toggleable label */\n",
       "#sk-container-id-7 label.sk-toggleable__label {\n",
       "  cursor: pointer;\n",
       "  display: flex;\n",
       "  width: 100%;\n",
       "  margin-bottom: 0;\n",
       "  padding: 0.5em;\n",
       "  box-sizing: border-box;\n",
       "  text-align: center;\n",
       "  align-items: start;\n",
       "  justify-content: space-between;\n",
       "  gap: 0.5em;\n",
       "}\n",
       "\n",
       "#sk-container-id-7 label.sk-toggleable__label .caption {\n",
       "  font-size: 0.6rem;\n",
       "  font-weight: lighter;\n",
       "  color: var(--sklearn-color-text-muted);\n",
       "}\n",
       "\n",
       "#sk-container-id-7 label.sk-toggleable__label-arrow:before {\n",
       "  /* Arrow on the left of the label */\n",
       "  content: \"▸\";\n",
       "  float: left;\n",
       "  margin-right: 0.25em;\n",
       "  color: var(--sklearn-color-icon);\n",
       "}\n",
       "\n",
       "#sk-container-id-7 label.sk-toggleable__label-arrow:hover:before {\n",
       "  color: var(--sklearn-color-text);\n",
       "}\n",
       "\n",
       "/* Toggleable content - dropdown */\n",
       "\n",
       "#sk-container-id-7 div.sk-toggleable__content {\n",
       "  max-height: 0;\n",
       "  max-width: 0;\n",
       "  overflow: hidden;\n",
       "  text-align: left;\n",
       "  /* unfitted */\n",
       "  background-color: var(--sklearn-color-unfitted-level-0);\n",
       "}\n",
       "\n",
       "#sk-container-id-7 div.sk-toggleable__content.fitted {\n",
       "  /* fitted */\n",
       "  background-color: var(--sklearn-color-fitted-level-0);\n",
       "}\n",
       "\n",
       "#sk-container-id-7 div.sk-toggleable__content pre {\n",
       "  margin: 0.2em;\n",
       "  border-radius: 0.25em;\n",
       "  color: var(--sklearn-color-text);\n",
       "  /* unfitted */\n",
       "  background-color: var(--sklearn-color-unfitted-level-0);\n",
       "}\n",
       "\n",
       "#sk-container-id-7 div.sk-toggleable__content.fitted pre {\n",
       "  /* unfitted */\n",
       "  background-color: var(--sklearn-color-fitted-level-0);\n",
       "}\n",
       "\n",
       "#sk-container-id-7 input.sk-toggleable__control:checked~div.sk-toggleable__content {\n",
       "  /* Expand drop-down */\n",
       "  max-height: 200px;\n",
       "  max-width: 100%;\n",
       "  overflow: auto;\n",
       "}\n",
       "\n",
       "#sk-container-id-7 input.sk-toggleable__control:checked~label.sk-toggleable__label-arrow:before {\n",
       "  content: \"▾\";\n",
       "}\n",
       "\n",
       "/* Pipeline/ColumnTransformer-specific style */\n",
       "\n",
       "#sk-container-id-7 div.sk-label input.sk-toggleable__control:checked~label.sk-toggleable__label {\n",
       "  color: var(--sklearn-color-text);\n",
       "  background-color: var(--sklearn-color-unfitted-level-2);\n",
       "}\n",
       "\n",
       "#sk-container-id-7 div.sk-label.fitted input.sk-toggleable__control:checked~label.sk-toggleable__label {\n",
       "  background-color: var(--sklearn-color-fitted-level-2);\n",
       "}\n",
       "\n",
       "/* Estimator-specific style */\n",
       "\n",
       "/* Colorize estimator box */\n",
       "#sk-container-id-7 div.sk-estimator input.sk-toggleable__control:checked~label.sk-toggleable__label {\n",
       "  /* unfitted */\n",
       "  background-color: var(--sklearn-color-unfitted-level-2);\n",
       "}\n",
       "\n",
       "#sk-container-id-7 div.sk-estimator.fitted input.sk-toggleable__control:checked~label.sk-toggleable__label {\n",
       "  /* fitted */\n",
       "  background-color: var(--sklearn-color-fitted-level-2);\n",
       "}\n",
       "\n",
       "#sk-container-id-7 div.sk-label label.sk-toggleable__label,\n",
       "#sk-container-id-7 div.sk-label label {\n",
       "  /* The background is the default theme color */\n",
       "  color: var(--sklearn-color-text-on-default-background);\n",
       "}\n",
       "\n",
       "/* On hover, darken the color of the background */\n",
       "#sk-container-id-7 div.sk-label:hover label.sk-toggleable__label {\n",
       "  color: var(--sklearn-color-text);\n",
       "  background-color: var(--sklearn-color-unfitted-level-2);\n",
       "}\n",
       "\n",
       "/* Label box, darken color on hover, fitted */\n",
       "#sk-container-id-7 div.sk-label.fitted:hover label.sk-toggleable__label.fitted {\n",
       "  color: var(--sklearn-color-text);\n",
       "  background-color: var(--sklearn-color-fitted-level-2);\n",
       "}\n",
       "\n",
       "/* Estimator label */\n",
       "\n",
       "#sk-container-id-7 div.sk-label label {\n",
       "  font-family: monospace;\n",
       "  font-weight: bold;\n",
       "  display: inline-block;\n",
       "  line-height: 1.2em;\n",
       "}\n",
       "\n",
       "#sk-container-id-7 div.sk-label-container {\n",
       "  text-align: center;\n",
       "}\n",
       "\n",
       "/* Estimator-specific */\n",
       "#sk-container-id-7 div.sk-estimator {\n",
       "  font-family: monospace;\n",
       "  border: 1px dotted var(--sklearn-color-border-box);\n",
       "  border-radius: 0.25em;\n",
       "  box-sizing: border-box;\n",
       "  margin-bottom: 0.5em;\n",
       "  /* unfitted */\n",
       "  background-color: var(--sklearn-color-unfitted-level-0);\n",
       "}\n",
       "\n",
       "#sk-container-id-7 div.sk-estimator.fitted {\n",
       "  /* fitted */\n",
       "  background-color: var(--sklearn-color-fitted-level-0);\n",
       "}\n",
       "\n",
       "/* on hover */\n",
       "#sk-container-id-7 div.sk-estimator:hover {\n",
       "  /* unfitted */\n",
       "  background-color: var(--sklearn-color-unfitted-level-2);\n",
       "}\n",
       "\n",
       "#sk-container-id-7 div.sk-estimator.fitted:hover {\n",
       "  /* fitted */\n",
       "  background-color: var(--sklearn-color-fitted-level-2);\n",
       "}\n",
       "\n",
       "/* Specification for estimator info (e.g. \"i\" and \"?\") */\n",
       "\n",
       "/* Common style for \"i\" and \"?\" */\n",
       "\n",
       ".sk-estimator-doc-link,\n",
       "a:link.sk-estimator-doc-link,\n",
       "a:visited.sk-estimator-doc-link {\n",
       "  float: right;\n",
       "  font-size: smaller;\n",
       "  line-height: 1em;\n",
       "  font-family: monospace;\n",
       "  background-color: var(--sklearn-color-background);\n",
       "  border-radius: 1em;\n",
       "  height: 1em;\n",
       "  width: 1em;\n",
       "  text-decoration: none !important;\n",
       "  margin-left: 0.5em;\n",
       "  text-align: center;\n",
       "  /* unfitted */\n",
       "  border: var(--sklearn-color-unfitted-level-1) 1pt solid;\n",
       "  color: var(--sklearn-color-unfitted-level-1);\n",
       "}\n",
       "\n",
       ".sk-estimator-doc-link.fitted,\n",
       "a:link.sk-estimator-doc-link.fitted,\n",
       "a:visited.sk-estimator-doc-link.fitted {\n",
       "  /* fitted */\n",
       "  border: var(--sklearn-color-fitted-level-1) 1pt solid;\n",
       "  color: var(--sklearn-color-fitted-level-1);\n",
       "}\n",
       "\n",
       "/* On hover */\n",
       "div.sk-estimator:hover .sk-estimator-doc-link:hover,\n",
       ".sk-estimator-doc-link:hover,\n",
       "div.sk-label-container:hover .sk-estimator-doc-link:hover,\n",
       ".sk-estimator-doc-link:hover {\n",
       "  /* unfitted */\n",
       "  background-color: var(--sklearn-color-unfitted-level-3);\n",
       "  color: var(--sklearn-color-background);\n",
       "  text-decoration: none;\n",
       "}\n",
       "\n",
       "div.sk-estimator.fitted:hover .sk-estimator-doc-link.fitted:hover,\n",
       ".sk-estimator-doc-link.fitted:hover,\n",
       "div.sk-label-container:hover .sk-estimator-doc-link.fitted:hover,\n",
       ".sk-estimator-doc-link.fitted:hover {\n",
       "  /* fitted */\n",
       "  background-color: var(--sklearn-color-fitted-level-3);\n",
       "  color: var(--sklearn-color-background);\n",
       "  text-decoration: none;\n",
       "}\n",
       "\n",
       "/* Span, style for the box shown on hovering the info icon */\n",
       ".sk-estimator-doc-link span {\n",
       "  display: none;\n",
       "  z-index: 9999;\n",
       "  position: relative;\n",
       "  font-weight: normal;\n",
       "  right: .2ex;\n",
       "  padding: .5ex;\n",
       "  margin: .5ex;\n",
       "  width: min-content;\n",
       "  min-width: 20ex;\n",
       "  max-width: 50ex;\n",
       "  color: var(--sklearn-color-text);\n",
       "  box-shadow: 2pt 2pt 4pt #999;\n",
       "  /* unfitted */\n",
       "  background: var(--sklearn-color-unfitted-level-0);\n",
       "  border: .5pt solid var(--sklearn-color-unfitted-level-3);\n",
       "}\n",
       "\n",
       ".sk-estimator-doc-link.fitted span {\n",
       "  /* fitted */\n",
       "  background: var(--sklearn-color-fitted-level-0);\n",
       "  border: var(--sklearn-color-fitted-level-3);\n",
       "}\n",
       "\n",
       ".sk-estimator-doc-link:hover span {\n",
       "  display: block;\n",
       "}\n",
       "\n",
       "/* \"?\"-specific style due to the `<a>` HTML tag */\n",
       "\n",
       "#sk-container-id-7 a.estimator_doc_link {\n",
       "  float: right;\n",
       "  font-size: 1rem;\n",
       "  line-height: 1em;\n",
       "  font-family: monospace;\n",
       "  background-color: var(--sklearn-color-background);\n",
       "  border-radius: 1rem;\n",
       "  height: 1rem;\n",
       "  width: 1rem;\n",
       "  text-decoration: none;\n",
       "  /* unfitted */\n",
       "  color: var(--sklearn-color-unfitted-level-1);\n",
       "  border: var(--sklearn-color-unfitted-level-1) 1pt solid;\n",
       "}\n",
       "\n",
       "#sk-container-id-7 a.estimator_doc_link.fitted {\n",
       "  /* fitted */\n",
       "  border: var(--sklearn-color-fitted-level-1) 1pt solid;\n",
       "  color: var(--sklearn-color-fitted-level-1);\n",
       "}\n",
       "\n",
       "/* On hover */\n",
       "#sk-container-id-7 a.estimator_doc_link:hover {\n",
       "  /* unfitted */\n",
       "  background-color: var(--sklearn-color-unfitted-level-3);\n",
       "  color: var(--sklearn-color-background);\n",
       "  text-decoration: none;\n",
       "}\n",
       "\n",
       "#sk-container-id-7 a.estimator_doc_link.fitted:hover {\n",
       "  /* fitted */\n",
       "  background-color: var(--sklearn-color-fitted-level-3);\n",
       "}\n",
       "</style><div id=\"sk-container-id-7\" class=\"sk-top-container\"><div class=\"sk-text-repr-fallback\"><pre>LinearRegression()</pre><b>In a Jupyter environment, please rerun this cell to show the HTML representation or trust the notebook. <br />On GitHub, the HTML representation is unable to render, please try loading this page with nbviewer.org.</b></div><div class=\"sk-container\" hidden><div class=\"sk-item\"><div class=\"sk-estimator fitted sk-toggleable\"><input class=\"sk-toggleable__control sk-hidden--visually\" id=\"sk-estimator-id-7\" type=\"checkbox\" checked><label for=\"sk-estimator-id-7\" class=\"sk-toggleable__label fitted sk-toggleable__label-arrow\"><div><div>LinearRegression</div></div><div><a class=\"sk-estimator-doc-link fitted\" rel=\"noreferrer\" target=\"_blank\" href=\"https://scikit-learn.org/1.6/modules/generated/sklearn.linear_model.LinearRegression.html\">?<span>Documentation for LinearRegression</span></a><span class=\"sk-estimator-doc-link fitted\">i<span>Fitted</span></span></div></label><div class=\"sk-toggleable__content fitted\"><pre>LinearRegression()</pre></div> </div></div></div></div>"
      ],
      "text/plain": [
       "LinearRegression()"
      ]
     },
     "execution_count": 61,
     "metadata": {},
     "output_type": "execute_result"
    }
   ],
   "source": [
    "lr2 = LinearRegression()\n",
    "lr2.fit(X_train_trans,y_train)\n",
    "\n",
    "\n",
    "# Model Building"
   ]
  },
  {
   "cell_type": "code",
   "execution_count": 62,
   "id": "ad278ac9",
   "metadata": {},
   "outputs": [],
   "source": [
    "y_pred_trans = lr2.predict(X_test_trans)\n",
    "\n",
    "r2_score_trans = r2_score(y_pred_trans, y_test)"
   ]
  },
  {
   "cell_type": "code",
   "execution_count": 63,
   "id": "6eb72a36",
   "metadata": {},
   "outputs": [
    {
     "data": {
      "text/plain": [
       "0.8637336063898452"
      ]
     },
     "execution_count": 63,
     "metadata": {},
     "output_type": "execute_result"
    }
   ],
   "source": [
    "r2_score_trans # very good r2 score"
   ]
  },
  {
   "cell_type": "code",
   "execution_count": 64,
   "id": "c7c237b2",
   "metadata": {},
   "outputs": [
    {
     "name": "stdout",
     "output_type": "stream",
     "text": [
      "[[0.         0.90967929 0.80767122]]\n",
      "[2.06129729]\n"
     ]
    }
   ],
   "source": [
    "print (lr2.coef_) #constant\n",
    "print(lr2.intercept_)"
   ]
  },
  {
   "cell_type": "code",
   "execution_count": 65,
   "id": "ec0ebbd1",
   "metadata": {},
   "outputs": [],
   "source": [
    "# (Original)\n",
    "# y hat = 0.8 X^2 + 0.9X + 2 + []-> random noise\n",
    "#     = B0 + B1X1 + B2X2\n",
    "\n",
    "# (From Prediction)\n",
    "# y hat = 2.10 + 0.90 X + 0.80 X^2 (very close to original)"
   ]
  },
  {
   "cell_type": "code",
   "execution_count": 66,
   "id": "ce58053b",
   "metadata": {},
   "outputs": [],
   "source": [
    "X_new = np.linspace(-3,3,200).reshape(200,1) # creating data\n",
    "X_new_poly = poly.transform(X_new) #transforming it acc to degrees\n",
    "y_new =lr2.predict(X_new_poly)"
   ]
  },
  {
   "cell_type": "code",
   "execution_count": 71,
   "id": "f8b4cfbd",
   "metadata": {},
   "outputs": [
    {
     "data": {
      "image/png": "[encoded data removed]",
      "text/plain": [
       "<Figure size 640x480 with 1 Axes>"
      ]
     },
     "metadata": {},
     "output_type": "display_data"
    }
   ],
   "source": [
    "plt.plot(X_new,y_new,'r-',linewidth =2, label ='Predictions')\n",
    "plt.plot(X_train,y_train,'b.', label ='Training')\n",
    "plt.plot(X_test,y_test,'g.', label ='Testing')\n",
    "# plt.plot(X , y ,'b.') #blue color dots\n",
    "plt.xlabel('X')\n",
    "plt.ylabel('y')\n",
    "plt.legend()\n",
    "plt.show()\n"
   ]
  },
  {
   "cell_type": "code",
   "execution_count": null,
   "id": "70c56c3a",
   "metadata": {},
   "outputs": [
    {
     "data": {
      "image/png": "[encoded data removed]",
      "text/plain": [
       "<Figure size 640x480 with 1 Axes>"
      ]
     },
     "metadata": {},
     "output_type": "display_data"
    },
    {
     "data": {
      "image/png": "[encoded data removed]",
      "text/plain": [
       "<Figure size 640x480 with 1 Axes>"
      ]
     },
     "metadata": {},
     "output_type": "display_data"
    },
    {
     "data": {
      "image/png": "[encoded data removed]",
      "text/plain": [
       "<Figure size 640x480 with 1 Axes>"
      ]
     },
     "metadata": {},
     "output_type": "display_data"
    }
   ],
   "source": [
    "def polynomial_regression(degree):\n",
    "    # Smooth range of X for plotting\n",
    "    X_new = np.linspace(-3, 3, 100).reshape(100, 1)\n",
    "\n",
    "    # Build pipeline: poly features + scaling + linear regression\n",
    "    polynomial_regression = Pipeline([\n",
    "        (\"poly_features\", PolynomialFeatures(degree=degree, include_bias=False)),\n",
    "        (\"std_scaler\", StandardScaler()),\n",
    "        (\"lin_reg\", LinearRegression()),\n",
    "    ])\n",
    "\n",
    "    # Fit on training data (NOT X_new!)\n",
    "    polynomial_regression.fit(X_train, y_train)\n",
    "\n",
    "    # Predict on smooth curve\n",
    "    y_new_big = polynomial_regression.predict(X_new)\n",
    "\n",
    "    # Plot\n",
    "    plt.plot(X_new, y_new_big, 'r', label=f'Degree {degree}', linewidth=2)\n",
    "    plt.plot(X_train, y_train, 'b.', linewidth=3, label=\"Train data\")\n",
    "    plt.plot(X_test, y_test, 'g.', linewidth=3, label=\"Test data\")\n",
    "    plt.legend(loc='upper left')\n",
    "    plt.xlabel(\"X\")\n",
    "    plt.ylabel(\"y\")\n",
    "    plt.axis([-3, 3, 0, 10])\n",
    "    plt.show()\n",
    "\n",
    "polynomial_regression(2)\n",
    "polynomial_regression(10) # slight overfitting\n",
    "polynomial_regression(200) # large overfitting"
   ]
  },
  {
   "cell_type": "code",
   "execution_count": 75,
   "id": "6198b1bb",
   "metadata": {},
   "outputs": [
    {
     "data": {
      "text/plain": [
       "array([[0],\n",
       "       [1],\n",
       "       [2]])"
      ]
     },
     "execution_count": 75,
     "metadata": {},
     "output_type": "execute_result"
    }
   ],
   "source": [
    "poly.powers_"
   ]
  },
  {
   "cell_type": "markdown",
   "id": "258a56f7",
   "metadata": {},
   "source": [
    "### Visualise the data using a 3d plot"
   ]
  },
  {
   "cell_type": "code",
   "execution_count": null,
   "id": "f76d26fc",
   "metadata": {},
   "outputs": [],
   "source": [
    "# 3d dimensional polynomial regression\n",
    "\n",
    "X = 7*np.random.rand(100,1)-2.8 #Independent Variable 1\n",
    "y = 7*np.random.rand(100,1)-2.8 #Independent Variable 2\n",
    "\n",
    "z = X**2 + y**2 + 0.2*X + 0.2*y +0.1*X*y + 2 +np.random.rand(100,1) # Dependent Variable\n",
    "\n",
    "# formula - >\n",
    "# z = x^2 + y^2 + 0.2x + 0.2y + 0.1xy + 2\n",
    "#   = B0 + B1X1 + B2X2 + B3X1^2 + B4X2^2 + B5X1X2\n",
    "\n",
    "# manually creating a dataset where you already know the underlying polynomial relationship"
   ]
  },
  {
   "cell_type": "code",
   "execution_count": null,
   "id": "31cdadec",
   "metadata": {},
   "outputs": [
    {
     "data": {
      "application/vnd.plotly.v1+json": {
       "config": {
        "plotlyServerURL": "https://plot.ly"
       },
       "data": [
        {
         "hovertemplate": "x=%{x}<br>y=%{y}<br>z=%{z}<extra></extra>",
         "legendgroup": "",
         "marker": {
          "color": "#636efa",
          "symbol": "circle"
         },
         "mode": "markers",
         "name": "",
         "scene": "scene",
         "showlegend": false,
         "type": "scatter3d",
         "x": {
          "bdata": "IF0ybSxV7z8ElkK9svj8vzKhIwn98/u/4A44dvMDy78cxT6k0C7sv1Mv1VOSmwXAKho96yVQ+79Qaobz8rEIQGAZdCrzzfQ/0Me5W7Lx9D+wlY+LZHELQIxlN0SZ7PO/KAjFriBpBEB4KYEWb+r4v/gz1cXNlgVA0N9+/flg/r8AYrEyOIDRv/Q/e+JUEAlADYbs4CwUAcCutypTGfoCwOqZcwc4Ufi/OPVfQglv2j9QRfF11MnwP6bkI3w01/u/zIAPatBb5r+zEvuv0cT+vx9SoubYjxBAuB5RLoCp7b+My9LvWjb0v+BE1BJaStM/zgImoIPf6r80XQ6Ru2PkPzBoLE/szfI/0FRH7l2IBEBgO5Z9Bfbhv7jpD1h3qPQ/cB3ZiURj1j+kHtbklGfuP8jsyc2DUeY/ZcwPm0su9L9Iizq/0zT3P8dscKSoFALAkBx2kwh70j/AqR/OXg0MQABRbGtUH/K//DFt4RhfC0Ba1Vq2koEBQKDNwrdDaMK//VKe1E9hAsDwjh7TQgfkvxJFLndRxgVAEDV6mALg/D+GEN+flqsCQL5Pqw5WFwRA3VU89LhPEEDQHIjan9IEwIDUkLBb1JW/SJZ+VjYw1T+EUaHF66T5P1AUR4YdP+G/wFM/02GOs79YcYoxelHlP36taBlUhQVAWrIWMyirCkDNWRrxuVcCwK1ARqfKzALAOBvGvvq/0L+Ng2NY2dMFwHo3eaVoNALAlFBbY4UiC0BGZR+hIt7tvx17V9K6ywTATVErdC7MAcBgk/mEYwTqP9Ae6f32rvQ/oIvMNu+UwT828fGrQswLQHAPkZb4kNe/tz1UkGXn/L+G5U3cJz7+v+RpXMA4FQxA8sWykY92/b+3fwhINJEDwGxQoBsC6fo/sMKfSMHu+7+A5/J3uSSqPzxg9IiUQO0/VJo4LBlXCUBGiL8WsG0LQEgfc4BQiP4/c4cHxZdx/L8ZVtTL7rcCwGxSqusNYQ5ACFaFj8G277+UKhWstRjvPyDvJXu61dQ/OHcGtpC59z/uGwLZfdAEQPIyY6xteQ1ARBMIULUQ+b8=",
          "dtype": "f8"
         },
         "y": {
          "bdata": "Emi9btlIAUDyNJ/7ru3xP47xQkmugAdAtsKwHviP+r/U9+/OyY//P9wl9hH62ue/JrUalAM0DEDaZasK47AJQNILjDr3mANARt0V4YRtD0BOZ8bN6sAIQH5KuOteFvu/TL1q5RxdCEDuyf7zj6/8v9COcP4Krw5ASvc+YJcNC0AAE8K68cW/P4Buj9lKk8G/GBgRG3i/AkCODZ/uko4KQHCrcwHC8/Y/RDkIS9A3BkCAVNdgHwuhv6ji1Gjymt6/uF21GFAr6z/VbC0E+SoQQHhPiMBghQJAnG4l6y1pBMCAB2BjN2a9PxfdhjHnaQLA7A0vDIYzAMA+5w0XaJUFwKbBVGVggADAhmK5ZJhrB0AaHPMOmIgIQNT/jC2iofS/SJfy0CM73j9QJc+NZAsDwM7npBN9yfW/j6bGFAt9A8AQ0/TO6ovWv0JjBe2UDgLARP8npDW88D+y42acGMMBQODOBqO9Cuw/EmeSRccs8T+AyLBet9gHQDAmOv49z9s/0LW6nCrJAcBylGY1QFYOQMhq7WqOEec/8KMCLQpDzD+sbdjzRmH0P3a/dp3+1vG/7JD+JwIH7j/wlYjwq6bTP1aXezCJqwlAauRlJar7BEDAyh5WH9CuvyDT+yNcZtK/wMbjnLKN3L8yFdWp2Eb9v6znFzuhCve/NDHs7Kzk7j+g/1LZolOxv5LhfGftugFAHm2IN1fDBUAgYB338MTFv3wXpCzRsAXA7NWHTLtTAkAw+Bb4xt3DvzBTgOwO+fc/ZaTx2knUBcCkvMZbZb72P2KKWjVfuQ9AXuHCgnkcCEDAicV1eEP7P3hu4893hPo/hRXgooG7BMDoDYigA+cHQPBliuuZiARAUJhLEa6H9D8wmwDB+R/RP7RnV59umQZAZtmB4pYUAkCw8BONeivcvwZbVDxoKANAxHEhS8kg+j80KZ4pqynuvy5rlaltfgFAcHT8kTD25b944hR3k13zvzq5YvYhTQTADHFxLuJKAkAQHkS8rwvnPzxCoX4AVATAQExk/qlmx7/UWzwcenwKQN6Nksj/egJAutbxXBMqAEA=",
          "dtype": "f8"
         },
         "z": {
          "bdata": "2HKOVyhDIkAmU4GC/54aQCdZ2woJYCxAaIDp3p1+EkCgN5CER/cbQEZLE5kvpyRA0CLZAcoJMkBhcwsY24Q4QKD2glt4riVAXPUQI5uKNUCu+Sr8VCw6QBG+ebNb5xhA63Vlh+vIM0DFqsK6OcgeQPUxFENpIjtAHblbrFRqMUBC2vwxwTYBQOvQ+VvFtypAFLJh5tYNKUAJVFD0zdkyQOplX+yIJxlA4VXHJD4SJkBK9y2PcuMOQOgf/KrmEhVAw3joCb2RCUBQXGUR2SU2QDU1XbVyEjtAyX9gNu5DIkCIhKoZ544QQHoqWmOQkx5Ac1q7gOfZGkAe6DKn0H8jQOGC1MxMqh1ANwVIgSSGM0BYxGgv37YpQIVjEaqYPBhA3NlOxCmeBkDTH/XxofAhQHdEqlGW8RFAIjguYJDNIkDovL7AOAQVQHlCR53KQClAwYTfPiPvDkActb6vPrI1QC2jLosKdxBAYL0sh8H9MEDKcLiTkl4xQNOBCSMJaAVAJGudUKoQKEC7v96bES4xQAH972+cKCZAnA7UvU5wF0CmWlUju/clQMYriy/k+iNAbzFg6xVENUC1gdv+NlMhQKXnw8IqiCtA/ZDhsNz0JEBuIzRuJHwWQO4Et3k8HQJAT+zr7P70A0Bp6kx+xkoWQNFH2vuPAShAOfpjcNDjLkCiU3eZZRQfQBSQxZM1YChA11J1GjAxJUAkjeCtTMYiQAjHIT9yiy1Ae784i4rVNECf8C1tQR0NQC5epRe1VSVA3BrqzAVzLEAVATBqwSIWQL4oTI2MdzVAZ6vz1ZiFKEAQwNyNptYyQA4/Ln4SjxVA2y9bnKE9J0BLhXVAbGssQGgh+g6/FTdA3VjfLQUeHkDDNQXCahEhQDV192E9eC1AZTwDvjKrJUASjCn4+6IBQD5k7n2ANyNA+zrbCpG1MEAAsymczP0uQP4j6yaHmydAOqb+g35eFkCZgD/llOYhQFZDS6wiWDZAlhReVVT4IUAvLRhdSm4SQMEN/Phv+CFA6VkVMLEwE0AJFy8nhR02QImKqu8BtDdA2l2WjaCCIkA=",
          "dtype": "f8"
         }
        }
       ],
       "layout": {
        "legend": {
         "tracegroupgap": 0
        },
        "margin": {
         "t": 60
        },
        "scene": {
         "domain": {
          "x": [
           0,
           1
          ],
          "y": [
           0,
           1
          ]
         },
         "xaxis": {
          "title": {
           "text": "x"
          }
         },
         "yaxis": {
          "title": {
           "text": "y"
          }
         },
         "zaxis": {
          "title": {
           "text": "z"
          }
         }
        },
        "template": {
         "data": {
          "bar": [
           {
            "error_x": {
             "color": "#2a3f5f"
            },
            "error_y": {
             "color": "#2a3f5f"
            },
            "marker": {
             "line": {
              "color": "#E5ECF6",
              "width": 0.5
             },
             "pattern": {
              "fillmode": "overlay",
              "size": 10,
              "solidity": 0.2
             }
            },
            "type": "bar"
           }
          ],
          "barpolar": [
           {
            "marker": {
             "line": {
              "color": "#E5ECF6",
              "width": 0.5
             },
             "pattern": {
              "fillmode": "overlay",
              "size": 10,
              "solidity": 0.2
             }
            },
            "type": "barpolar"
           }
          ],
          "carpet": [
           {
            "aaxis": {
             "endlinecolor": "#2a3f5f",
             "gridcolor": "white",
             "linecolor": "white",
             "minorgridcolor": "white",
             "startlinecolor": "#2a3f5f"
            },
            "baxis": {
             "endlinecolor": "#2a3f5f",
             "gridcolor": "white",
             "linecolor": "white",
             "minorgridcolor": "white",
             "startlinecolor": "#2a3f5f"
            },
            "type": "carpet"
           }
          ],
          "choropleth": [
           {
            "colorbar": {
             "outlinewidth": 0,
             "ticks": ""
            },
            "type": "choropleth"
           }
          ],
          "contour": [
           {
            "colorbar": {
             "outlinewidth": 0,
             "ticks": ""
            },
            "colorscale": [
             [
              0,
              "#0d0887"
             ],
             [
              0.1111111111111111,
              "#46039f"
             ],
             [
              0.2222222222222222,
              "#7201a8"
             ],
             [
              0.3333333333333333,
              "#9c179e"
             ],
             [
              0.4444444444444444,
              "#bd3786"
             ],
             [
              0.5555555555555556,
              "#d8576b"
             ],
             [
              0.6666666666666666,
              "#ed7953"
             ],
             [
              0.7777777777777778,
              "#fb9f3a"
             ],
             [
              0.8888888888888888,
              "#fdca26"
             ],
             [
              1,
              "#f0f921"
             ]
            ],
            "type": "contour"
           }
          ],
          "contourcarpet": [
           {
            "colorbar": {
             "outlinewidth": 0,
             "ticks": ""
            },
            "type": "contourcarpet"
           }
          ],
          "heatmap": [
           {
            "colorbar": {
             "outlinewidth": 0,
             "ticks": ""
            },
            "colorscale": [
             [
              0,
              "#0d0887"
             ],
             [
              0.1111111111111111,
              "#46039f"
             ],
             [
              0.2222222222222222,
              "#7201a8"
             ],
             [
              0.3333333333333333,
              "#9c179e"
             ],
             [
              0.4444444444444444,
              "#bd3786"
             ],
             [
              0.5555555555555556,
              "#d8576b"
             ],
             [
              0.6666666666666666,
              "#ed7953"
             ],
             [
              0.7777777777777778,
              "#fb9f3a"
             ],
             [
              0.8888888888888888,
              "#fdca26"
             ],
             [
              1,
              "#f0f921"
             ]
            ],
            "type": "heatmap"
           }
          ],
          "histogram": [
           {
            "marker": {
             "pattern": {
              "fillmode": "overlay",
              "size": 10,
              "solidity": 0.2
             }
            },
            "type": "histogram"
           }
          ],
          "histogram2d": [
           {
            "colorbar": {
             "outlinewidth": 0,
             "ticks": ""
            },
            "colorscale": [
             [
              0,
              "#0d0887"
             ],
             [
              0.1111111111111111,
              "#46039f"
             ],
             [
              0.2222222222222222,
              "#7201a8"
             ],
             [
              0.3333333333333333,
              "#9c179e"
             ],
             [
              0.4444444444444444,
              "#bd3786"
             ],
             [
              0.5555555555555556,
              "#d8576b"
             ],
             [
              0.6666666666666666,
              "#ed7953"
             ],
             [
              0.7777777777777778,
              "#fb9f3a"
             ],
             [
              0.8888888888888888,
              "#fdca26"
             ],
             [
              1,
              "#f0f921"
             ]
            ],
            "type": "histogram2d"
           }
          ],
          "histogram2dcontour": [
           {
            "colorbar": {
             "outlinewidth": 0,
             "ticks": ""
            },
            "colorscale": [
             [
              0,
              "#0d0887"
             ],
             [
              0.1111111111111111,
              "#46039f"
             ],
             [
              0.2222222222222222,
              "#7201a8"
             ],
             [
              0.3333333333333333,
              "#9c179e"
             ],
             [
              0.4444444444444444,
              "#bd3786"
             ],
             [
              0.5555555555555556,
              "#d8576b"
             ],
             [
              0.6666666666666666,
              "#ed7953"
             ],
             [
              0.7777777777777778,
              "#fb9f3a"
             ],
             [
              0.8888888888888888,
              "#fdca26"
             ],
             [
              1,
              "#f0f921"
             ]
            ],
            "type": "histogram2dcontour"
           }
          ],
          "mesh3d": [
           {
            "colorbar": {
             "outlinewidth": 0,
             "ticks": ""
            },
            "type": "mesh3d"
           }
          ],
          "parcoords": [
           {
            "line": {
             "colorbar": {
              "outlinewidth": 0,
              "ticks": ""
             }
            },
            "type": "parcoords"
           }
          ],
          "pie": [
           {
            "automargin": true,
            "type": "pie"
           }
          ],
          "scatter": [
           {
            "fillpattern": {
             "fillmode": "overlay",
             "size": 10,
             "solidity": 0.2
            },
            "type": "scatter"
           }
          ],
          "scatter3d": [
           {
            "line": {
             "colorbar": {
              "outlinewidth": 0,
              "ticks": ""
             }
            },
            "marker": {
             "colorbar": {
              "outlinewidth": 0,
              "ticks": ""
             }
            },
            "type": "scatter3d"
           }
          ],
          "scattercarpet": [
           {
            "marker": {
             "colorbar": {
              "outlinewidth": 0,
              "ticks": ""
             }
            },
            "type": "scattercarpet"
           }
          ],
          "scattergeo": [
           {
            "marker": {
             "colorbar": {
              "outlinewidth": 0,
              "ticks": ""
             }
            },
            "type": "scattergeo"
           }
          ],
          "scattergl": [
           {
            "marker": {
             "colorbar": {
              "outlinewidth": 0,
              "ticks": ""
             }
            },
            "type": "scattergl"
           }
          ],
          "scattermap": [
           {
            "marker": {
             "colorbar": {
              "outlinewidth": 0,
              "ticks": ""
             }
            },
            "type": "scattermap"
           }
          ],
          "scattermapbox": [
           {
            "marker": {
             "colorbar": {
              "outlinewidth": 0,
              "ticks": ""
             }
            },
            "type": "scattermapbox"
           }
          ],
          "scatterpolar": [
           {
            "marker": {
             "colorbar": {
              "outlinewidth": 0,
              "ticks": ""
             }
            },
            "type": "scatterpolar"
           }
          ],
          "scatterpolargl": [
           {
            "marker": {
             "colorbar": {
              "outlinewidth": 0,
              "ticks": ""
             }
            },
            "type": "scatterpolargl"
           }
          ],
          "scatterternary": [
           {
            "marker": {
             "colorbar": {
              "outlinewidth": 0,
              "ticks": ""
             }
            },
            "type": "scatterternary"
           }
          ],
          "surface": [
           {
            "colorbar": {
             "outlinewidth": 0,
             "ticks": ""
            },
            "colorscale": [
             [
              0,
              "#0d0887"
             ],
             [
              0.1111111111111111,
              "#46039f"
             ],
             [
              0.2222222222222222,
              "#7201a8"
             ],
             [
              0.3333333333333333,
              "#9c179e"
             ],
             [
              0.4444444444444444,
              "#bd3786"
             ],
             [
              0.5555555555555556,
              "#d8576b"
             ],
             [
              0.6666666666666666,
              "#ed7953"
             ],
             [
              0.7777777777777778,
              "#fb9f3a"
             ],
             [
              0.8888888888888888,
              "#fdca26"
             ],
             [
              1,
              "#f0f921"
             ]
            ],
            "type": "surface"
           }
          ],
          "table": [
           {
            "cells": {
             "fill": {
              "color": "#EBF0F8"
             },
             "line": {
              "color": "white"
             }
            },
            "header": {
             "fill": {
              "color": "#C8D4E3"
             },
             "line": {
              "color": "white"
             }
            },
            "type": "table"
           }
          ]
         },
         "layout": {
          "annotationdefaults": {
           "arrowcolor": "#2a3f5f",
           "arrowhead": 0,
           "arrowwidth": 1
          },
          "autotypenumbers": "strict",
          "coloraxis": {
           "colorbar": {
            "outlinewidth": 0,
            "ticks": ""
           }
          },
          "colorscale": {
           "diverging": [
            [
             0,
             "#8e0152"
            ],
            [
             0.1,
             "#c51b7d"
            ],
            [
             0.2,
             "#de77ae"
            ],
            [
             0.3,
             "#f1b6da"
            ],
            [
             0.4,
             "#fde0ef"
            ],
            [
             0.5,
             "#f7f7f7"
            ],
            [
             0.6,
             "#e6f5d0"
            ],
            [
             0.7,
             "#b8e186"
            ],
            [
             0.8,
             "#7fbc41"
            ],
            [
             0.9,
             "#4d9221"
            ],
            [
             1,
             "#276419"
            ]
           ],
           "sequential": [
            [
             0,
             "#0d0887"
            ],
            [
             0.1111111111111111,
             "#46039f"
            ],
            [
             0.2222222222222222,
             "#7201a8"
            ],
            [
             0.3333333333333333,
             "#9c179e"
            ],
            [
             0.4444444444444444,
             "#bd3786"
            ],
            [
             0.5555555555555556,
             "#d8576b"
            ],
            [
             0.6666666666666666,
             "#ed7953"
            ],
            [
             0.7777777777777778,
             "#fb9f3a"
            ],
            [
             0.8888888888888888,
             "#fdca26"
            ],
            [
             1,
             "#f0f921"
            ]
           ],
           "sequentialminus": [
            [
             0,
             "#0d0887"
            ],
            [
             0.1111111111111111,
             "#46039f"
            ],
            [
             0.2222222222222222,
             "#7201a8"
            ],
            [
             0.3333333333333333,
             "#9c179e"
            ],
            [
             0.4444444444444444,
             "#bd3786"
            ],
            [
             0.5555555555555556,
             "#d8576b"
            ],
            [
             0.6666666666666666,
             "#ed7953"
            ],
            [
             0.7777777777777778,
             "#fb9f3a"
            ],
            [
             0.8888888888888888,
             "#fdca26"
            ],
            [
             1,
             "#f0f921"
            ]
           ]
          },
          "colorway": [
           "#636efa",
           "#EF553B",
           "#00cc96",
           "#ab63fa",
           "#FFA15A",
           "#19d3f3",
           "#FF6692",
           "#B6E880",
           "#FF97FF",
           "#FECB52"
          ],
          "font": {
           "color": "#2a3f5f"
          },
          "geo": {
           "bgcolor": "white",
           "lakecolor": "white",
           "landcolor": "#E5ECF6",
           "showlakes": true,
           "showland": true,
           "subunitcolor": "white"
          },
          "hoverlabel": {
           "align": "left"
          },
          "hovermode": "closest",
          "mapbox": {
           "style": "light"
          },
          "paper_bgcolor": "white",
          "plot_bgcolor": "#E5ECF6",
          "polar": {
           "angularaxis": {
            "gridcolor": "white",
            "linecolor": "white",
            "ticks": ""
           },
           "bgcolor": "#E5ECF6",
           "radialaxis": {
            "gridcolor": "white",
            "linecolor": "white",
            "ticks": ""
           }
          },
          "scene": {
           "xaxis": {
            "backgroundcolor": "#E5ECF6",
            "gridcolor": "white",
            "gridwidth": 2,
            "linecolor": "white",
            "showbackground": true,
            "ticks": "",
            "zerolinecolor": "white"
           },
           "yaxis": {
            "backgroundcolor": "#E5ECF6",
            "gridcolor": "white",
            "gridwidth": 2,
            "linecolor": "white",
            "showbackground": true,
            "ticks": "",
            "zerolinecolor": "white"
           },
           "zaxis": {
            "backgroundcolor": "#E5ECF6",
            "gridcolor": "white",
            "gridwidth": 2,
            "linecolor": "white",
            "showbackground": true,
            "ticks": "",
            "zerolinecolor": "white"
           }
          },
          "shapedefaults": {
           "line": {
            "color": "#2a3f5f"
           }
          },
          "ternary": {
           "aaxis": {
            "gridcolor": "white",
            "linecolor": "white",
            "ticks": ""
           },
           "baxis": {
            "gridcolor": "white",
            "linecolor": "white",
            "ticks": ""
           },
           "bgcolor": "#E5ECF6",
           "caxis": {
            "gridcolor": "white",
            "linecolor": "white",
            "ticks": ""
           }
          },
          "title": {
           "x": 0.05
          },
          "xaxis": {
           "automargin": true,
           "gridcolor": "white",
           "linecolor": "white",
           "ticks": "",
           "title": {
            "standoff": 15
           },
           "zerolinecolor": "white",
           "zerolinewidth": 2
          },
          "yaxis": {
           "automargin": true,
           "gridcolor": "white",
           "linecolor": "white",
           "ticks": "",
           "title": {
            "standoff": 15
           },
           "zerolinecolor": "white",
           "zerolinewidth": 2
          }
         }
        }
       }
      }
     },
     "metadata": {},
     "output_type": "display_data"
    }
   ],
   "source": [
    "import plotly.express as px\n",
    "\n",
    "fig = px.scatter_3d(x=X.ravel(),y=y.ravel(),z=z.ravel())\n",
    "fig.show()\n",
    "\n",
    "# ravel - converts to 1d array like reshape"
   ]
  }
 ],
 "metadata": {
  "kernelspec": {
   "display_name": ".venv (3.9.12)",
   "language": "python",
   "name": "python3"
  },
  "language_info": {
   "codemirror_mode": {
    "name": "ipython",
    "version": 3
   },
   "file_extension": ".py",
   "mimetype": "text/x-python",
   "name": "python",
   "nbconvert_exporter": "python",
   "pygments_lexer": "ipython3",
   "version": "3.9.12"
  }
 },
 "nbformat": 4,
 "nbformat_minor": 5
}
