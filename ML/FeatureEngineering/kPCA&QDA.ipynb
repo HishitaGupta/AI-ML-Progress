{
 "cells": [
  {
   "cell_type": "code",
   "execution_count": 1,
   "id": "d5d9282e",
   "metadata": {},
   "outputs": [],
   "source": [
    "import pandas as pd\n",
    "import numpy as np\n",
    "import matplotlib.pyplot as plt\n",
    "from sklearn.model_selection import train_test_split\n",
    "\n",
    "from sklearn.linear_model import LogisticRegression\n",
    "from sklearn.metrics import accuracy_score\n"
   ]
  },
  {
   "cell_type": "code",
   "execution_count": 2,
   "id": "e0979d15",
   "metadata": {},
   "outputs": [],
   "source": [
    "df = pd.read_csv('../../EDA/CustomerChurn.csv')\n"
   ]
  },
  {
   "cell_type": "code",
   "execution_count": 3,
   "id": "ae3f3643",
   "metadata": {},
   "outputs": [
    {
     "data": {
      "text/html": [
       "<div>\n",
       "<style scoped>\n",
       "    .dataframe tbody tr th:only-of-type {\n",
       "        vertical-align: middle;\n",
       "    }\n",
       "\n",
       "    .dataframe tbody tr th {\n",
       "        vertical-align: top;\n",
       "    }\n",
       "\n",
       "    .dataframe thead th {\n",
       "        text-align: right;\n",
       "    }\n",
       "</style>\n",
       "<table border=\"1\" class=\"dataframe\">\n",
       "  <thead>\n",
       "    <tr style=\"text-align: right;\">\n",
       "      <th></th>\n",
       "      <th>customerID</th>\n",
       "      <th>gender</th>\n",
       "      <th>SeniorCitizen</th>\n",
       "      <th>Partner</th>\n",
       "      <th>Dependents</th>\n",
       "      <th>tenure</th>\n",
       "      <th>PhoneService</th>\n",
       "      <th>MultipleLines</th>\n",
       "      <th>InternetService</th>\n",
       "      <th>OnlineSecurity</th>\n",
       "      <th>...</th>\n",
       "      <th>DeviceProtection</th>\n",
       "      <th>TechSupport</th>\n",
       "      <th>StreamingTV</th>\n",
       "      <th>StreamingMovies</th>\n",
       "      <th>Contract</th>\n",
       "      <th>PaperlessBilling</th>\n",
       "      <th>PaymentMethod</th>\n",
       "      <th>MonthlyCharges</th>\n",
       "      <th>TotalCharges</th>\n",
       "      <th>Churn</th>\n",
       "    </tr>\n",
       "  </thead>\n",
       "  <tbody>\n",
       "    <tr>\n",
       "      <th>0</th>\n",
       "      <td>7590-VHVEG</td>\n",
       "      <td>Female</td>\n",
       "      <td>0</td>\n",
       "      <td>Yes</td>\n",
       "      <td>No</td>\n",
       "      <td>1</td>\n",
       "      <td>No</td>\n",
       "      <td>No phone service</td>\n",
       "      <td>DSL</td>\n",
       "      <td>No</td>\n",
       "      <td>...</td>\n",
       "      <td>No</td>\n",
       "      <td>No</td>\n",
       "      <td>No</td>\n",
       "      <td>No</td>\n",
       "      <td>Month-to-month</td>\n",
       "      <td>Yes</td>\n",
       "      <td>Electronic check</td>\n",
       "      <td>29.85</td>\n",
       "      <td>29.85</td>\n",
       "      <td>No</td>\n",
       "    </tr>\n",
       "    <tr>\n",
       "      <th>1</th>\n",
       "      <td>5575-GNVDE</td>\n",
       "      <td>Male</td>\n",
       "      <td>0</td>\n",
       "      <td>No</td>\n",
       "      <td>No</td>\n",
       "      <td>34</td>\n",
       "      <td>Yes</td>\n",
       "      <td>No</td>\n",
       "      <td>DSL</td>\n",
       "      <td>Yes</td>\n",
       "      <td>...</td>\n",
       "      <td>Yes</td>\n",
       "      <td>No</td>\n",
       "      <td>No</td>\n",
       "      <td>No</td>\n",
       "      <td>One year</td>\n",
       "      <td>No</td>\n",
       "      <td>Mailed check</td>\n",
       "      <td>56.95</td>\n",
       "      <td>1889.5</td>\n",
       "      <td>No</td>\n",
       "    </tr>\n",
       "    <tr>\n",
       "      <th>2</th>\n",
       "      <td>3668-QPYBK</td>\n",
       "      <td>Male</td>\n",
       "      <td>0</td>\n",
       "      <td>No</td>\n",
       "      <td>No</td>\n",
       "      <td>2</td>\n",
       "      <td>Yes</td>\n",
       "      <td>No</td>\n",
       "      <td>DSL</td>\n",
       "      <td>Yes</td>\n",
       "      <td>...</td>\n",
       "      <td>No</td>\n",
       "      <td>No</td>\n",
       "      <td>No</td>\n",
       "      <td>No</td>\n",
       "      <td>Month-to-month</td>\n",
       "      <td>Yes</td>\n",
       "      <td>Mailed check</td>\n",
       "      <td>53.85</td>\n",
       "      <td>108.15</td>\n",
       "      <td>Yes</td>\n",
       "    </tr>\n",
       "    <tr>\n",
       "      <th>3</th>\n",
       "      <td>7795-CFOCW</td>\n",
       "      <td>Male</td>\n",
       "      <td>0</td>\n",
       "      <td>No</td>\n",
       "      <td>No</td>\n",
       "      <td>45</td>\n",
       "      <td>No</td>\n",
       "      <td>No phone service</td>\n",
       "      <td>DSL</td>\n",
       "      <td>Yes</td>\n",
       "      <td>...</td>\n",
       "      <td>Yes</td>\n",
       "      <td>Yes</td>\n",
       "      <td>No</td>\n",
       "      <td>No</td>\n",
       "      <td>One year</td>\n",
       "      <td>No</td>\n",
       "      <td>Bank transfer (automatic)</td>\n",
       "      <td>42.30</td>\n",
       "      <td>1840.75</td>\n",
       "      <td>No</td>\n",
       "    </tr>\n",
       "    <tr>\n",
       "      <th>4</th>\n",
       "      <td>9237-HQITU</td>\n",
       "      <td>Female</td>\n",
       "      <td>0</td>\n",
       "      <td>No</td>\n",
       "      <td>No</td>\n",
       "      <td>2</td>\n",
       "      <td>Yes</td>\n",
       "      <td>No</td>\n",
       "      <td>Fiber optic</td>\n",
       "      <td>No</td>\n",
       "      <td>...</td>\n",
       "      <td>No</td>\n",
       "      <td>No</td>\n",
       "      <td>No</td>\n",
       "      <td>No</td>\n",
       "      <td>Month-to-month</td>\n",
       "      <td>Yes</td>\n",
       "      <td>Electronic check</td>\n",
       "      <td>70.70</td>\n",
       "      <td>151.65</td>\n",
       "      <td>Yes</td>\n",
       "    </tr>\n",
       "  </tbody>\n",
       "</table>\n",
       "<p>5 rows × 21 columns</p>\n",
       "</div>"
      ],
      "text/plain": [
       "   customerID  gender  SeniorCitizen Partner Dependents  tenure PhoneService  \\\n",
       "0  7590-VHVEG  Female              0     Yes         No       1           No   \n",
       "1  5575-GNVDE    Male              0      No         No      34          Yes   \n",
       "2  3668-QPYBK    Male              0      No         No       2          Yes   \n",
       "3  7795-CFOCW    Male              0      No         No      45           No   \n",
       "4  9237-HQITU  Female              0      No         No       2          Yes   \n",
       "\n",
       "      MultipleLines InternetService OnlineSecurity  ... DeviceProtection  \\\n",
       "0  No phone service             DSL             No  ...               No   \n",
       "1                No             DSL            Yes  ...              Yes   \n",
       "2                No             DSL            Yes  ...               No   \n",
       "3  No phone service             DSL            Yes  ...              Yes   \n",
       "4                No     Fiber optic             No  ...               No   \n",
       "\n",
       "  TechSupport StreamingTV StreamingMovies        Contract PaperlessBilling  \\\n",
       "0          No          No              No  Month-to-month              Yes   \n",
       "1          No          No              No        One year               No   \n",
       "2          No          No              No  Month-to-month              Yes   \n",
       "3         Yes          No              No        One year               No   \n",
       "4          No          No              No  Month-to-month              Yes   \n",
       "\n",
       "               PaymentMethod MonthlyCharges  TotalCharges Churn  \n",
       "0           Electronic check          29.85         29.85    No  \n",
       "1               Mailed check          56.95        1889.5    No  \n",
       "2               Mailed check          53.85        108.15   Yes  \n",
       "3  Bank transfer (automatic)          42.30       1840.75    No  \n",
       "4           Electronic check          70.70        151.65   Yes  \n",
       "\n",
       "[5 rows x 21 columns]"
      ]
     },
     "execution_count": 3,
     "metadata": {},
     "output_type": "execute_result"
    }
   ],
   "source": [
    "df.head()"
   ]
  },
  {
   "cell_type": "code",
   "execution_count": 4,
   "id": "e5bf9fb1",
   "metadata": {},
   "outputs": [
    {
     "name": "stdout",
     "output_type": "stream",
     "text": [
      "<class 'pandas.core.frame.DataFrame'>\n",
      "RangeIndex: 7043 entries, 0 to 7042\n",
      "Data columns (total 21 columns):\n",
      " #   Column            Non-Null Count  Dtype  \n",
      "---  ------            --------------  -----  \n",
      " 0   customerID        7043 non-null   object \n",
      " 1   gender            7043 non-null   object \n",
      " 2   SeniorCitizen     7043 non-null   int64  \n",
      " 3   Partner           7043 non-null   object \n",
      " 4   Dependents        7043 non-null   object \n",
      " 5   tenure            7043 non-null   int64  \n",
      " 6   PhoneService      7043 non-null   object \n",
      " 7   MultipleLines     7043 non-null   object \n",
      " 8   InternetService   7043 non-null   object \n",
      " 9   OnlineSecurity    7043 non-null   object \n",
      " 10  OnlineBackup      7043 non-null   object \n",
      " 11  DeviceProtection  7043 non-null   object \n",
      " 12  TechSupport       7043 non-null   object \n",
      " 13  StreamingTV       7043 non-null   object \n",
      " 14  StreamingMovies   7043 non-null   object \n",
      " 15  Contract          7043 non-null   object \n",
      " 16  PaperlessBilling  7043 non-null   object \n",
      " 17  PaymentMethod     7043 non-null   object \n",
      " 18  MonthlyCharges    7043 non-null   float64\n",
      " 19  TotalCharges      7043 non-null   object \n",
      " 20  Churn             7043 non-null   object \n",
      "dtypes: float64(1), int64(2), object(18)\n",
      "memory usage: 1.1+ MB\n"
     ]
    }
   ],
   "source": [
    "df.info()"
   ]
  },
  {
   "cell_type": "code",
   "execution_count": 5,
   "id": "2a730ff1",
   "metadata": {},
   "outputs": [],
   "source": [
    "df['TotalCharges'] = pd.to_numeric(df['TotalCharges'],errors='coerce')\n",
    "df.dropna(how='any',inplace=True)\n"
   ]
  },
  {
   "cell_type": "code",
   "execution_count": 6,
   "id": "7bcb28d5",
   "metadata": {},
   "outputs": [],
   "source": [
    "df.drop(['customerID'], axis ='columns',inplace=True)"
   ]
  },
  {
   "cell_type": "code",
   "execution_count": 7,
   "id": "c8b7c17b",
   "metadata": {},
   "outputs": [],
   "source": [
    "#Dummy Encoding\n",
    "\n",
    "df = pd.get_dummies(df,drop_first=True)"
   ]
  },
  {
   "cell_type": "code",
   "execution_count": 8,
   "id": "80f06674",
   "metadata": {},
   "outputs": [
    {
     "name": "stdout",
     "output_type": "stream",
     "text": [
      "<class 'pandas.core.frame.DataFrame'>\n",
      "Index: 7032 entries, 0 to 7042\n",
      "Data columns (total 31 columns):\n",
      " #   Column                                 Non-Null Count  Dtype  \n",
      "---  ------                                 --------------  -----  \n",
      " 0   SeniorCitizen                          7032 non-null   int64  \n",
      " 1   tenure                                 7032 non-null   int64  \n",
      " 2   MonthlyCharges                         7032 non-null   float64\n",
      " 3   TotalCharges                           7032 non-null   float64\n",
      " 4   gender_Male                            7032 non-null   bool   \n",
      " 5   Partner_Yes                            7032 non-null   bool   \n",
      " 6   Dependents_Yes                         7032 non-null   bool   \n",
      " 7   PhoneService_Yes                       7032 non-null   bool   \n",
      " 8   MultipleLines_No phone service         7032 non-null   bool   \n",
      " 9   MultipleLines_Yes                      7032 non-null   bool   \n",
      " 10  InternetService_Fiber optic            7032 non-null   bool   \n",
      " 11  InternetService_No                     7032 non-null   bool   \n",
      " 12  OnlineSecurity_No internet service     7032 non-null   bool   \n",
      " 13  OnlineSecurity_Yes                     7032 non-null   bool   \n",
      " 14  OnlineBackup_No internet service       7032 non-null   bool   \n",
      " 15  OnlineBackup_Yes                       7032 non-null   bool   \n",
      " 16  DeviceProtection_No internet service   7032 non-null   bool   \n",
      " 17  DeviceProtection_Yes                   7032 non-null   bool   \n",
      " 18  TechSupport_No internet service        7032 non-null   bool   \n",
      " 19  TechSupport_Yes                        7032 non-null   bool   \n",
      " 20  StreamingTV_No internet service        7032 non-null   bool   \n",
      " 21  StreamingTV_Yes                        7032 non-null   bool   \n",
      " 22  StreamingMovies_No internet service    7032 non-null   bool   \n",
      " 23  StreamingMovies_Yes                    7032 non-null   bool   \n",
      " 24  Contract_One year                      7032 non-null   bool   \n",
      " 25  Contract_Two year                      7032 non-null   bool   \n",
      " 26  PaperlessBilling_Yes                   7032 non-null   bool   \n",
      " 27  PaymentMethod_Credit card (automatic)  7032 non-null   bool   \n",
      " 28  PaymentMethod_Electronic check         7032 non-null   bool   \n",
      " 29  PaymentMethod_Mailed check             7032 non-null   bool   \n",
      " 30  Churn_Yes                              7032 non-null   bool   \n",
      "dtypes: bool(27), float64(2), int64(2)\n",
      "memory usage: 460.1 KB\n"
     ]
    }
   ],
   "source": [
    "df.info()"
   ]
  },
  {
   "cell_type": "code",
   "execution_count": 9,
   "id": "6b1097e0",
   "metadata": {},
   "outputs": [],
   "source": [
    "# Considering Churn -> Y Variable\n",
    "# Other Columns -> X Variable\n",
    "\n",
    "X= df.drop(['Churn_Yes'],axis=1)\n",
    "y = df['Churn_Yes']"
   ]
  },
  {
   "cell_type": "code",
   "execution_count": 10,
   "id": "727728b7",
   "metadata": {},
   "outputs": [],
   "source": [
    "# Split the data\n",
    "\n",
    "X_train,X_test,y_train,y_test = train_test_split(X,y,test_size=0.3,random_state=40)"
   ]
  },
  {
   "cell_type": "code",
   "execution_count": 11,
   "id": "884768eb",
   "metadata": {},
   "outputs": [
    {
     "name": "stdout",
     "output_type": "stream",
     "text": [
      "0.7995260663507109\n"
     ]
    },
    {
     "name": "stderr",
     "output_type": "stream",
     "text": [
      "c:\\Users\\HP\\Desktop\\Interview Prep\\AI Engineer\\.venv\\lib\\site-packages\\sklearn\\linear_model\\_logistic.py:465: ConvergenceWarning: lbfgs failed to converge (status=1):\n",
      "STOP: TOTAL NO. of ITERATIONS REACHED LIMIT.\n",
      "\n",
      "Increase the number of iterations (max_iter) or scale the data as shown in:\n",
      "    https://scikit-learn.org/stable/modules/preprocessing.html\n",
      "Please also refer to the documentation for alternative solver options:\n",
      "    https://scikit-learn.org/stable/modules/linear_model.html#logistic-regression\n",
      "  n_iter_i = _check_optimize_result(\n"
     ]
    }
   ],
   "source": [
    "# Base Model\n",
    "\n",
    "model_orig = LogisticRegression()\n",
    "model_orig.fit(X_train,y_train)\n",
    "y_pred_orig = model_orig.predict(X_test)\n",
    "\n",
    "accuracy = accuracy_score(y_test,y_pred_orig)\n",
    "print(accuracy_score(y_test,y_pred_orig))"
   ]
  },
  {
   "cell_type": "markdown",
   "id": "bf19c4cb",
   "metadata": {},
   "source": [
    "##### kPCA"
   ]
  },
  {
   "cell_type": "code",
   "execution_count": 26,
   "id": "e229f2b0",
   "metadata": {},
   "outputs": [],
   "source": [
    "# Apply Kernel Principal Component Analysis for non linear data\n",
    "\n",
    "\n",
    "from sklearn.decomposition import KernelPCA as kPCA\n"
   ]
  },
  {
   "cell_type": "code",
   "execution_count": 28,
   "id": "2f82872c",
   "metadata": {},
   "outputs": [],
   "source": [
    "kpca = kPCA(n_components=10)\n",
    "X_train_kpca = kpca.fit_transform(X_train)\n",
    "# X_train and y_train both\n",
    "X_test_kpca = kpca.transform(X_test)"
   ]
  },
  {
   "cell_type": "code",
   "execution_count": 30,
   "id": "5e22d627",
   "metadata": {},
   "outputs": [
    {
     "data": {
      "text/plain": [
       "array([[-2.22133030e+03,  3.58507003e+01,  4.36596556e+00, ...,\n",
       "         2.78968622e-01, -1.55379041e-01, -1.31598762e-01],\n",
       "       [ 4.02981393e+03,  2.43662435e+00, -4.91146529e+00, ...,\n",
       "         1.54193827e-01, -3.74592004e-01, -2.32359396e-02],\n",
       "       [ 3.74547780e+03, -1.33533253e+01, -9.75312278e-01, ...,\n",
       "         6.53630177e-01,  8.42206317e-01,  2.01348343e-01],\n",
       "       ...,\n",
       "       [ 1.04741701e+03,  1.68675590e+01,  1.64348278e+00, ...,\n",
       "         6.38290947e-01,  4.25101666e-01,  9.90343530e-01],\n",
       "       [-2.20447596e+03, -1.94429916e+01, -1.96792044e+01, ...,\n",
       "        -4.34098706e-02, -7.24976061e-01,  4.25946863e-01],\n",
       "       [-2.84434898e+02, -8.10391784e+00,  1.41405608e+00, ...,\n",
       "        -8.71324757e-01,  9.18048224e-01,  4.54382653e-01]])"
      ]
     },
     "execution_count": 30,
     "metadata": {},
     "output_type": "execute_result"
    }
   ],
   "source": [
    "X_train_kpca"
   ]
  },
  {
   "cell_type": "code",
   "execution_count": 29,
   "id": "f4194cd1",
   "metadata": {},
   "outputs": [
    {
     "name": "stdout",
     "output_type": "stream",
     "text": [
      "0.7838862559241706\n"
     ]
    },
    {
     "name": "stderr",
     "output_type": "stream",
     "text": [
      "c:\\Users\\HP\\Desktop\\Interview Prep\\AI Engineer\\.venv\\lib\\site-packages\\sklearn\\linear_model\\_logistic.py:465: ConvergenceWarning: lbfgs failed to converge (status=1):\n",
      "STOP: TOTAL NO. of ITERATIONS REACHED LIMIT.\n",
      "\n",
      "Increase the number of iterations (max_iter) or scale the data as shown in:\n",
      "    https://scikit-learn.org/stable/modules/preprocessing.html\n",
      "Please also refer to the documentation for alternative solver options:\n",
      "    https://scikit-learn.org/stable/modules/linear_model.html#logistic-regression\n",
      "  n_iter_i = _check_optimize_result(\n"
     ]
    }
   ],
   "source": [
    "# Training the logistic regression model on the new training set\n",
    "\n",
    "model_kpca = LogisticRegression()\n",
    "model_kpca.fit(X_train_kpca,y_train)\n",
    "y_pred_kpca= model_kpca.predict(X_test_kpca)\n",
    "\n",
    "accuracy_kpca = accuracy_score(y_test,y_pred_kpca)\n",
    "print(accuracy_kpca)"
   ]
  },
  {
   "cell_type": "code",
   "execution_count": null,
   "id": "4780c406",
   "metadata": {},
   "outputs": [],
   "source": [
    "# Gone down from 30 dimension to 10 dimension still we are getting a nearmost similiar accuracy\n",
    "\n",
    "# Do it for 10 features, 5 features etc."
   ]
  },
  {
   "cell_type": "markdown",
   "id": "ac1caf74",
   "metadata": {},
   "source": [
    "##### QDA"
   ]
  },
  {
   "cell_type": "code",
   "execution_count": 33,
   "id": "6044ca26",
   "metadata": {},
   "outputs": [],
   "source": [
    "# Apply Quadratic Discriminant Analysis for non linear data\n",
    "\n",
    "\n",
    "from sklearn.discriminant_analysis import QuadraticDiscriminantAnalysis as QDA\n"
   ]
  },
  {
   "cell_type": "code",
   "execution_count": 35,
   "id": "b64c8d65",
   "metadata": {},
   "outputs": [
    {
     "name": "stdout",
     "output_type": "stream",
     "text": [
      "0.6966824644549763\n"
     ]
    },
    {
     "name": "stderr",
     "output_type": "stream",
     "text": [
      "c:\\Users\\HP\\Desktop\\Interview Prep\\AI Engineer\\.venv\\lib\\site-packages\\sklearn\\discriminant_analysis.py:1024: LinAlgWarning: The covariance matrix of class 0 is not full rank. Increasing the value of parameter `reg_param` might help reducing the collinearity.\n",
      "  warnings.warn(\n",
      "c:\\Users\\HP\\Desktop\\Interview Prep\\AI Engineer\\.venv\\lib\\site-packages\\sklearn\\discriminant_analysis.py:1024: LinAlgWarning: The covariance matrix of class 1 is not full rank. Increasing the value of parameter `reg_param` might help reducing the collinearity.\n",
      "  warnings.warn(\n"
     ]
    }
   ],
   "source": [
    "qda = QDA()\n",
    "X_train_qda = qda.fit(X_train,y_train)\n",
    "\n",
    "y_pred_qda = qda.predict(X_test)\n",
    "\n",
    "accuracy_qda = accuracy_score(y_test,y_pred_qda)\n",
    "print(accuracy_qda)"
   ]
  },
  {
   "cell_type": "code",
   "execution_count": null,
   "id": "1bfed560",
   "metadata": {},
   "outputs": [],
   "source": [
    "# In real life just go for PCA and LDA"
   ]
  }
 ],
 "metadata": {
  "kernelspec": {
   "display_name": ".venv (3.9.12)",
   "language": "python",
   "name": "python3"
  },
  "language_info": {
   "codemirror_mode": {
    "name": "ipython",
    "version": 3
   },
   "file_extension": ".py",
   "mimetype": "text/x-python",
   "name": "python",
   "nbconvert_exporter": "python",
   "pygments_lexer": "ipython3",
   "version": "3.9.12"
  }
 },
 "nbformat": 4,
 "nbformat_minor": 5
}
